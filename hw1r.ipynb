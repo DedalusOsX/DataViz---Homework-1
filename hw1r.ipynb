{
 "cells": [
  {
   "cell_type": "markdown",
   "metadata": {},
   "source": [
    "# Homework 1"
   ]
  },
  {
   "cell_type": "markdown",
   "metadata": {},
   "source": [
    "### **Part 1: Data Cleaning and Exploration**"
   ]
  },
  {
   "cell_type": "markdown",
   "metadata": {},
   "source": [
    "##### 1. Load the dataset. Check the first 5 rows."
   ]
  },
  {
   "cell_type": "code",
   "execution_count": 4,
   "metadata": {
    "vscode": {
     "languageId": "r"
    }
   },
   "outputs": [
    {
     "name": "stdout",
     "output_type": "stream",
     "text": [
      "\n",
      "The downloaded binary packages are in\n",
      "\t/var/folders/kq/p_rf2pqn3v188w5gfn697n6c0000gn/T//RtmppQVaPr/downloaded_packages\n",
      "\n",
      "The downloaded binary packages are in\n",
      "\t/var/folders/kq/p_rf2pqn3v188w5gfn697n6c0000gn/T//RtmppQVaPr/downloaded_packages\n"
     ]
    },
    {
     "data": {
      "text/html": [
       "<table class=\"dataframe\">\n",
       "<caption>A data.frame: 5 x 28</caption>\n",
       "<thead>\n",
       "\t<tr><th></th><th scope=col>DR_NO</th><th scope=col>Date.Rptd</th><th scope=col>DATE.OCC</th><th scope=col>TIME.OCC</th><th scope=col>AREA</th><th scope=col>AREA.NAME</th><th scope=col>Rpt.Dist.No</th><th scope=col>Part.1.2</th><th scope=col>Crm.Cd</th><th scope=col>Crm.Cd.Desc</th><th scope=col>...</th><th scope=col>Status</th><th scope=col>Status.Desc</th><th scope=col>Crm.Cd.1</th><th scope=col>Crm.Cd.2</th><th scope=col>Crm.Cd.3</th><th scope=col>Crm.Cd.4</th><th scope=col>LOCATION</th><th scope=col>Cross.Street</th><th scope=col>LAT</th><th scope=col>LON</th></tr>\n",
       "\t<tr><th></th><th scope=col>&lt;int&gt;</th><th scope=col>&lt;chr&gt;</th><th scope=col>&lt;chr&gt;</th><th scope=col>&lt;int&gt;</th><th scope=col>&lt;int&gt;</th><th scope=col>&lt;chr&gt;</th><th scope=col>&lt;int&gt;</th><th scope=col>&lt;int&gt;</th><th scope=col>&lt;int&gt;</th><th scope=col>&lt;chr&gt;</th><th scope=col>...</th><th scope=col>&lt;chr&gt;</th><th scope=col>&lt;chr&gt;</th><th scope=col>&lt;dbl&gt;</th><th scope=col>&lt;dbl&gt;</th><th scope=col>&lt;dbl&gt;</th><th scope=col>&lt;dbl&gt;</th><th scope=col>&lt;chr&gt;</th><th scope=col>&lt;chr&gt;</th><th scope=col>&lt;dbl&gt;</th><th scope=col>&lt;dbl&gt;</th></tr>\n",
       "</thead>\n",
       "<tbody>\n",
       "\t<tr><th scope=row>1</th><td>241711715</td><td>08/01/2024 12:00:00 AM</td><td>08/01/2024 12:00:00 AM</td><td>1319</td><td>17</td><td>Devonshire </td><td>1791</td><td>1</td><td>440</td><td>THEFT PLAIN - PETTY ($950 &amp; UNDER)</td><td>...</td><td>IC</td><td>Invest Cont</td><td>440</td><td>NA</td><td>NA</td><td>NA</td><td><span style=white-space:pre-wrap>8300    KELVIN                       AV </span></td><td></td><td>34.2200</td><td>-118.5863</td></tr>\n",
       "\t<tr><th scope=row>2</th><td>231014031</td><td>09/21/2023 12:00:00 AM</td><td>09/15/2023 12:00:00 AM</td><td>1930</td><td>10</td><td>West Valley</td><td>1011</td><td>2</td><td>354</td><td>THEFT OF IDENTITY                 </td><td>...</td><td>IC</td><td>Invest Cont</td><td>354</td><td>NA</td><td>NA</td><td>NA</td><td>18900    CANTLAY                      ST</td><td></td><td>34.2023</td><td>-118.5458</td></tr>\n",
       "\t<tr><th scope=row>3</th><td>231010808</td><td>06/27/2023 12:00:00 AM</td><td>06/26/2023 12:00:00 AM</td><td>1230</td><td>10</td><td>West Valley</td><td>1015</td><td>2</td><td>354</td><td>THEFT OF IDENTITY                 </td><td>...</td><td>IC</td><td>Invest Cont</td><td>354</td><td>NA</td><td>NA</td><td>NA</td><td>7300    ENFIELD                      AV </td><td></td><td>34.2033</td><td>-118.5241</td></tr>\n",
       "\t<tr><th scope=row>4</th><td>211410441</td><td>04/25/2021 12:00:00 AM</td><td>04/25/2021 12:00:00 AM</td><td>2330</td><td>14</td><td>Pacific    </td><td>1488</td><td>2</td><td>626</td><td>INTIMATE PARTNER - SIMPLE ASSAULT </td><td>...</td><td>IC</td><td>Invest Cont</td><td>626</td><td>NA</td><td>NA</td><td>NA</td><td>5800 W  CENTURY                      BL </td><td></td><td>33.9456</td><td>-118.3835</td></tr>\n",
       "\t<tr><th scope=row>5</th><td>211114569</td><td>10/25/2021 12:00:00 AM</td><td>10/25/2021 12:00:00 AM</td><td>1455</td><td>11</td><td>Northeast  </td><td>1123</td><td>1</td><td>210</td><td>ROBBERY                           </td><td>...</td><td>IC</td><td>Invest Cont</td><td>210</td><td>NA</td><td>NA</td><td>NA</td><td>2900    LOS FELIZ                    BL </td><td></td><td> 0.0000</td><td>   0.0000</td></tr>\n",
       "</tbody>\n",
       "</table>\n"
      ],
      "text/latex": [
       "A data.frame: 5 x 28\n",
       "\\begin{tabular}{r|lllllllllllllllllllll}\n",
       "  & DR\\_NO & Date.Rptd & DATE.OCC & TIME.OCC & AREA & AREA.NAME & Rpt.Dist.No & Part.1.2 & Crm.Cd & Crm.Cd.Desc & ... & Status & Status.Desc & Crm.Cd.1 & Crm.Cd.2 & Crm.Cd.3 & Crm.Cd.4 & LOCATION & Cross.Street & LAT & LON\\\\\n",
       "  & <int> & <chr> & <chr> & <int> & <int> & <chr> & <int> & <int> & <int> & <chr> & ... & <chr> & <chr> & <dbl> & <dbl> & <dbl> & <dbl> & <chr> & <chr> & <dbl> & <dbl>\\\\\n",
       "\\hline\n",
       "\t1 & 241711715 & 08/01/2024 12:00:00 AM & 08/01/2024 12:00:00 AM & 1319 & 17 & Devonshire  & 1791 & 1 & 440 & THEFT PLAIN - PETTY (\\$950 \\& UNDER) & ... & IC & Invest Cont & 440 & NA & NA & NA & 8300    KELVIN                       AV  &  & 34.2200 & -118.5863\\\\\n",
       "\t2 & 231014031 & 09/21/2023 12:00:00 AM & 09/15/2023 12:00:00 AM & 1930 & 10 & West Valley & 1011 & 2 & 354 & THEFT OF IDENTITY                  & ... & IC & Invest Cont & 354 & NA & NA & NA & 18900    CANTLAY                      ST &  & 34.2023 & -118.5458\\\\\n",
       "\t3 & 231010808 & 06/27/2023 12:00:00 AM & 06/26/2023 12:00:00 AM & 1230 & 10 & West Valley & 1015 & 2 & 354 & THEFT OF IDENTITY                  & ... & IC & Invest Cont & 354 & NA & NA & NA & 7300    ENFIELD                      AV  &  & 34.2033 & -118.5241\\\\\n",
       "\t4 & 211410441 & 04/25/2021 12:00:00 AM & 04/25/2021 12:00:00 AM & 2330 & 14 & Pacific     & 1488 & 2 & 626 & INTIMATE PARTNER - SIMPLE ASSAULT  & ... & IC & Invest Cont & 626 & NA & NA & NA & 5800 W  CENTURY                      BL  &  & 33.9456 & -118.3835\\\\\n",
       "\t5 & 211114569 & 10/25/2021 12:00:00 AM & 10/25/2021 12:00:00 AM & 1455 & 11 & Northeast   & 1123 & 1 & 210 & ROBBERY                            & ... & IC & Invest Cont & 210 & NA & NA & NA & 2900    LOS FELIZ                    BL  &  &  0.0000 &    0.0000\\\\\n",
       "\\end{tabular}\n"
      ],
      "text/markdown": [
       "\n",
       "A data.frame: 5 x 28\n",
       "\n",
       "| <!--/--> | DR_NO &lt;int&gt; | Date.Rptd &lt;chr&gt; | DATE.OCC &lt;chr&gt; | TIME.OCC &lt;int&gt; | AREA &lt;int&gt; | AREA.NAME &lt;chr&gt; | Rpt.Dist.No &lt;int&gt; | Part.1.2 &lt;int&gt; | Crm.Cd &lt;int&gt; | Crm.Cd.Desc &lt;chr&gt; | ... ... | Status &lt;chr&gt; | Status.Desc &lt;chr&gt; | Crm.Cd.1 &lt;dbl&gt; | Crm.Cd.2 &lt;dbl&gt; | Crm.Cd.3 &lt;dbl&gt; | Crm.Cd.4 &lt;dbl&gt; | LOCATION &lt;chr&gt; | Cross.Street &lt;chr&gt; | LAT &lt;dbl&gt; | LON &lt;dbl&gt; |\n",
       "|---|---|---|---|---|---|---|---|---|---|---|---|---|---|---|---|---|---|---|---|---|---|\n",
       "| 1 | 241711715 | 08/01/2024 12:00:00 AM | 08/01/2024 12:00:00 AM | 1319 | 17 | Devonshire  | 1791 | 1 | 440 | THEFT PLAIN - PETTY ($950 &amp; UNDER) | ... | IC | Invest Cont | 440 | NA | NA | NA | 8300    KELVIN                       AV  | <!----> | 34.2200 | -118.5863 |\n",
       "| 2 | 231014031 | 09/21/2023 12:00:00 AM | 09/15/2023 12:00:00 AM | 1930 | 10 | West Valley | 1011 | 2 | 354 | THEFT OF IDENTITY                  | ... | IC | Invest Cont | 354 | NA | NA | NA | 18900    CANTLAY                      ST | <!----> | 34.2023 | -118.5458 |\n",
       "| 3 | 231010808 | 06/27/2023 12:00:00 AM | 06/26/2023 12:00:00 AM | 1230 | 10 | West Valley | 1015 | 2 | 354 | THEFT OF IDENTITY                  | ... | IC | Invest Cont | 354 | NA | NA | NA | 7300    ENFIELD                      AV  | <!----> | 34.2033 | -118.5241 |\n",
       "| 4 | 211410441 | 04/25/2021 12:00:00 AM | 04/25/2021 12:00:00 AM | 2330 | 14 | Pacific     | 1488 | 2 | 626 | INTIMATE PARTNER - SIMPLE ASSAULT  | ... | IC | Invest Cont | 626 | NA | NA | NA | 5800 W  CENTURY                      BL  | <!----> | 33.9456 | -118.3835 |\n",
       "| 5 | 211114569 | 10/25/2021 12:00:00 AM | 10/25/2021 12:00:00 AM | 1455 | 11 | Northeast   | 1123 | 1 | 210 | ROBBERY                            | ... | IC | Invest Cont | 210 | NA | NA | NA | 2900    LOS FELIZ                    BL  | <!----> |  0.0000 |    0.0000 |\n",
       "\n"
      ],
      "text/plain": [
       "  DR_NO     Date.Rptd              DATE.OCC               TIME.OCC AREA\n",
       "1 241711715 08/01/2024 12:00:00 AM 08/01/2024 12:00:00 AM 1319     17  \n",
       "2 231014031 09/21/2023 12:00:00 AM 09/15/2023 12:00:00 AM 1930     10  \n",
       "3 231010808 06/27/2023 12:00:00 AM 06/26/2023 12:00:00 AM 1230     10  \n",
       "4 211410441 04/25/2021 12:00:00 AM 04/25/2021 12:00:00 AM 2330     14  \n",
       "5 211114569 10/25/2021 12:00:00 AM 10/25/2021 12:00:00 AM 1455     11  \n",
       "  AREA.NAME   Rpt.Dist.No Part.1.2 Crm.Cd Crm.Cd.Desc                       \n",
       "1 Devonshire  1791        1        440    THEFT PLAIN - PETTY ($950 & UNDER)\n",
       "2 West Valley 1011        2        354    THEFT OF IDENTITY                 \n",
       "3 West Valley 1015        2        354    THEFT OF IDENTITY                 \n",
       "4 Pacific     1488        2        626    INTIMATE PARTNER - SIMPLE ASSAULT \n",
       "5 Northeast   1123        1        210    ROBBERY                           \n",
       "  ... Status Status.Desc Crm.Cd.1 Crm.Cd.2 Crm.Cd.3 Crm.Cd.4\n",
       "1 ... IC     Invest Cont 440      NA       NA       NA      \n",
       "2 ... IC     Invest Cont 354      NA       NA       NA      \n",
       "3 ... IC     Invest Cont 354      NA       NA       NA      \n",
       "4 ... IC     Invest Cont 626      NA       NA       NA      \n",
       "5 ... IC     Invest Cont 210      NA       NA       NA      \n",
       "  LOCATION                                 Cross.Street LAT     LON      \n",
       "1 8300    KELVIN                       AV               34.2200 -118.5863\n",
       "2 18900    CANTLAY                      ST              34.2023 -118.5458\n",
       "3 7300    ENFIELD                      AV               34.2033 -118.5241\n",
       "4 5800 W  CENTURY                      BL               33.9456 -118.3835\n",
       "5 2900    LOS FELIZ                    BL                0.0000    0.0000"
      ]
     },
     "metadata": {},
     "output_type": "display_data"
    }
   ],
   "source": [
    "install.packages(\"dplyr\")\n",
    "install.packages(\"lubridate\")\n",
    "\n",
    "library(dplyr)\n",
    "library(lubridate)\n",
    "\n",
    "# Load the dataset\n",
    "crime_data <- read.csv(\"crime_data.csv\", stringsAsFactors = FALSE)\n",
    "\n",
    "# Show the first 5 rows\n",
    "head(crime_data, 5)"
   ]
  },
  {
   "cell_type": "markdown",
   "metadata": {},
   "source": [
    "##### 2. Identify columns with missing values and their respective counts. Drop columns where more than 50% of the data is missing (store this version as a new dataset)."
   ]
  },
  {
   "cell_type": "code",
   "execution_count": 63,
   "metadata": {
    "vscode": {
     "languageId": "r"
    }
   },
   "outputs": [
    {
     "name": "stdout",
     "output_type": "stream",
     "text": [
      "Columns with more than 50% missing values and will be dropped:\n",
      "[1] \"Weapon.Used.Cd\" \"Weapon.Desc\"    \"Crm.Cd.2\"       \"Crm.Cd.3\"      \n",
      "[5] \"Crm.Cd.4\"       \"Cross.Street\"  \n"
     ]
    },
    {
     "data": {
      "text/html": [
       "<table class=\"dataframe\">\n",
       "<caption>A data.frame: 5 x 22</caption>\n",
       "<thead>\n",
       "\t<tr><th></th><th scope=col>DR_NO</th><th scope=col>Date.Rptd</th><th scope=col>DATE.OCC</th><th scope=col>TIME.OCC</th><th scope=col>AREA</th><th scope=col>AREA.NAME</th><th scope=col>Rpt.Dist.No</th><th scope=col>Part.1.2</th><th scope=col>Crm.Cd</th><th scope=col>Crm.Cd.Desc</th><th scope=col>...</th><th scope=col>Vict.Sex</th><th scope=col>Vict.Descent</th><th scope=col>Premis.Cd</th><th scope=col>Premis.Desc</th><th scope=col>Status</th><th scope=col>Status.Desc</th><th scope=col>Crm.Cd.1</th><th scope=col>LOCATION</th><th scope=col>LAT</th><th scope=col>LON</th></tr>\n",
       "\t<tr><th></th><th scope=col>&lt;int&gt;</th><th scope=col>&lt;chr&gt;</th><th scope=col>&lt;chr&gt;</th><th scope=col>&lt;int&gt;</th><th scope=col>&lt;int&gt;</th><th scope=col>&lt;chr&gt;</th><th scope=col>&lt;int&gt;</th><th scope=col>&lt;int&gt;</th><th scope=col>&lt;int&gt;</th><th scope=col>&lt;chr&gt;</th><th scope=col>...</th><th scope=col>&lt;chr&gt;</th><th scope=col>&lt;chr&gt;</th><th scope=col>&lt;dbl&gt;</th><th scope=col>&lt;chr&gt;</th><th scope=col>&lt;chr&gt;</th><th scope=col>&lt;chr&gt;</th><th scope=col>&lt;dbl&gt;</th><th scope=col>&lt;chr&gt;</th><th scope=col>&lt;dbl&gt;</th><th scope=col>&lt;dbl&gt;</th></tr>\n",
       "</thead>\n",
       "<tbody>\n",
       "\t<tr><th scope=row>1</th><td>241711715</td><td>08/01/2024 12:00:00 AM</td><td>08/01/2024 12:00:00 AM</td><td>1319</td><td>17</td><td>Devonshire </td><td>1791</td><td>1</td><td>440</td><td>THEFT PLAIN - PETTY ($950 &amp; UNDER)</td><td>...</td><td>M</td><td>O</td><td>501</td><td><span style=white-space:pre-wrap>SINGLE FAMILY DWELLING                  </span></td><td>IC</td><td>Invest Cont</td><td>440</td><td><span style=white-space:pre-wrap>8300    KELVIN                       AV </span></td><td>34.2200</td><td>-118.5863</td></tr>\n",
       "\t<tr><th scope=row>2</th><td>231014031</td><td>09/21/2023 12:00:00 AM</td><td>09/15/2023 12:00:00 AM</td><td>1930</td><td>10</td><td>West Valley</td><td>1011</td><td>2</td><td>354</td><td>THEFT OF IDENTITY                 </td><td>...</td><td>F</td><td>W</td><td>501</td><td>SINGLE FAMILY DWELLING                  </td><td>IC</td><td>Invest Cont</td><td>354</td><td>18900    CANTLAY                      ST</td><td>34.2023</td><td>-118.5458</td></tr>\n",
       "\t<tr><th scope=row>3</th><td>231010808</td><td>06/27/2023 12:00:00 AM</td><td>06/26/2023 12:00:00 AM</td><td>1230</td><td>10</td><td>West Valley</td><td>1015</td><td>2</td><td>354</td><td>THEFT OF IDENTITY                 </td><td>...</td><td>F</td><td>O</td><td>501</td><td>SINGLE FAMILY DWELLING                  </td><td>IC</td><td>Invest Cont</td><td>354</td><td>7300    ENFIELD                      AV </td><td>34.2033</td><td>-118.5241</td></tr>\n",
       "\t<tr><th scope=row>4</th><td>211410441</td><td>04/25/2021 12:00:00 AM</td><td>04/25/2021 12:00:00 AM</td><td>2330</td><td>14</td><td>Pacific    </td><td>1488</td><td>2</td><td>626</td><td>INTIMATE PARTNER - SIMPLE ASSAULT </td><td>...</td><td>F</td><td>B</td><td>503</td><td>HOTEL                                   </td><td>IC</td><td>Invest Cont</td><td>626</td><td>5800 W  CENTURY                      BL </td><td>33.9456</td><td>-118.3835</td></tr>\n",
       "\t<tr><th scope=row>5</th><td>211114569</td><td>10/25/2021 12:00:00 AM</td><td>10/25/2021 12:00:00 AM</td><td>1455</td><td>11</td><td>Northeast  </td><td>1123</td><td>1</td><td>210</td><td>ROBBERY                           </td><td>...</td><td>X</td><td>X</td><td>412</td><td>ELECTRONICS STORE (IE:RADIO SHACK, ETC.)</td><td>IC</td><td>Invest Cont</td><td>210</td><td>2900    LOS FELIZ                    BL </td><td> 0.0000</td><td>   0.0000</td></tr>\n",
       "</tbody>\n",
       "</table>\n"
      ],
      "text/latex": [
       "A data.frame: 5 x 22\n",
       "\\begin{tabular}{r|lllllllllllllllllllll}\n",
       "  & DR\\_NO & Date.Rptd & DATE.OCC & TIME.OCC & AREA & AREA.NAME & Rpt.Dist.No & Part.1.2 & Crm.Cd & Crm.Cd.Desc & ... & Vict.Sex & Vict.Descent & Premis.Cd & Premis.Desc & Status & Status.Desc & Crm.Cd.1 & LOCATION & LAT & LON\\\\\n",
       "  & <int> & <chr> & <chr> & <int> & <int> & <chr> & <int> & <int> & <int> & <chr> & ... & <chr> & <chr> & <dbl> & <chr> & <chr> & <chr> & <dbl> & <chr> & <dbl> & <dbl>\\\\\n",
       "\\hline\n",
       "\t1 & 241711715 & 08/01/2024 12:00:00 AM & 08/01/2024 12:00:00 AM & 1319 & 17 & Devonshire  & 1791 & 1 & 440 & THEFT PLAIN - PETTY (\\$950 \\& UNDER) & ... & M & O & 501 & SINGLE FAMILY DWELLING                   & IC & Invest Cont & 440 & 8300    KELVIN                       AV  & 34.2200 & -118.5863\\\\\n",
       "\t2 & 231014031 & 09/21/2023 12:00:00 AM & 09/15/2023 12:00:00 AM & 1930 & 10 & West Valley & 1011 & 2 & 354 & THEFT OF IDENTITY                  & ... & F & W & 501 & SINGLE FAMILY DWELLING                   & IC & Invest Cont & 354 & 18900    CANTLAY                      ST & 34.2023 & -118.5458\\\\\n",
       "\t3 & 231010808 & 06/27/2023 12:00:00 AM & 06/26/2023 12:00:00 AM & 1230 & 10 & West Valley & 1015 & 2 & 354 & THEFT OF IDENTITY                  & ... & F & O & 501 & SINGLE FAMILY DWELLING                   & IC & Invest Cont & 354 & 7300    ENFIELD                      AV  & 34.2033 & -118.5241\\\\\n",
       "\t4 & 211410441 & 04/25/2021 12:00:00 AM & 04/25/2021 12:00:00 AM & 2330 & 14 & Pacific     & 1488 & 2 & 626 & INTIMATE PARTNER - SIMPLE ASSAULT  & ... & F & B & 503 & HOTEL                                    & IC & Invest Cont & 626 & 5800 W  CENTURY                      BL  & 33.9456 & -118.3835\\\\\n",
       "\t5 & 211114569 & 10/25/2021 12:00:00 AM & 10/25/2021 12:00:00 AM & 1455 & 11 & Northeast   & 1123 & 1 & 210 & ROBBERY                            & ... & X & X & 412 & ELECTRONICS STORE (IE:RADIO SHACK, ETC.) & IC & Invest Cont & 210 & 2900    LOS FELIZ                    BL  &  0.0000 &    0.0000\\\\\n",
       "\\end{tabular}\n"
      ],
      "text/markdown": [
       "\n",
       "A data.frame: 5 x 22\n",
       "\n",
       "| <!--/--> | DR_NO &lt;int&gt; | Date.Rptd &lt;chr&gt; | DATE.OCC &lt;chr&gt; | TIME.OCC &lt;int&gt; | AREA &lt;int&gt; | AREA.NAME &lt;chr&gt; | Rpt.Dist.No &lt;int&gt; | Part.1.2 &lt;int&gt; | Crm.Cd &lt;int&gt; | Crm.Cd.Desc &lt;chr&gt; | ... ... | Vict.Sex &lt;chr&gt; | Vict.Descent &lt;chr&gt; | Premis.Cd &lt;dbl&gt; | Premis.Desc &lt;chr&gt; | Status &lt;chr&gt; | Status.Desc &lt;chr&gt; | Crm.Cd.1 &lt;dbl&gt; | LOCATION &lt;chr&gt; | LAT &lt;dbl&gt; | LON &lt;dbl&gt; |\n",
       "|---|---|---|---|---|---|---|---|---|---|---|---|---|---|---|---|---|---|---|---|---|---|\n",
       "| 1 | 241711715 | 08/01/2024 12:00:00 AM | 08/01/2024 12:00:00 AM | 1319 | 17 | Devonshire  | 1791 | 1 | 440 | THEFT PLAIN - PETTY ($950 &amp; UNDER) | ... | M | O | 501 | SINGLE FAMILY DWELLING                   | IC | Invest Cont | 440 | 8300    KELVIN                       AV  | 34.2200 | -118.5863 |\n",
       "| 2 | 231014031 | 09/21/2023 12:00:00 AM | 09/15/2023 12:00:00 AM | 1930 | 10 | West Valley | 1011 | 2 | 354 | THEFT OF IDENTITY                  | ... | F | W | 501 | SINGLE FAMILY DWELLING                   | IC | Invest Cont | 354 | 18900    CANTLAY                      ST | 34.2023 | -118.5458 |\n",
       "| 3 | 231010808 | 06/27/2023 12:00:00 AM | 06/26/2023 12:00:00 AM | 1230 | 10 | West Valley | 1015 | 2 | 354 | THEFT OF IDENTITY                  | ... | F | O | 501 | SINGLE FAMILY DWELLING                   | IC | Invest Cont | 354 | 7300    ENFIELD                      AV  | 34.2033 | -118.5241 |\n",
       "| 4 | 211410441 | 04/25/2021 12:00:00 AM | 04/25/2021 12:00:00 AM | 2330 | 14 | Pacific     | 1488 | 2 | 626 | INTIMATE PARTNER - SIMPLE ASSAULT  | ... | F | B | 503 | HOTEL                                    | IC | Invest Cont | 626 | 5800 W  CENTURY                      BL  | 33.9456 | -118.3835 |\n",
       "| 5 | 211114569 | 10/25/2021 12:00:00 AM | 10/25/2021 12:00:00 AM | 1455 | 11 | Northeast   | 1123 | 1 | 210 | ROBBERY                            | ... | X | X | 412 | ELECTRONICS STORE (IE:RADIO SHACK, ETC.) | IC | Invest Cont | 210 | 2900    LOS FELIZ                    BL  |  0.0000 |    0.0000 |\n",
       "\n"
      ],
      "text/plain": [
       "  DR_NO     Date.Rptd              DATE.OCC               TIME.OCC AREA\n",
       "1 241711715 08/01/2024 12:00:00 AM 08/01/2024 12:00:00 AM 1319     17  \n",
       "2 231014031 09/21/2023 12:00:00 AM 09/15/2023 12:00:00 AM 1930     10  \n",
       "3 231010808 06/27/2023 12:00:00 AM 06/26/2023 12:00:00 AM 1230     10  \n",
       "4 211410441 04/25/2021 12:00:00 AM 04/25/2021 12:00:00 AM 2330     14  \n",
       "5 211114569 10/25/2021 12:00:00 AM 10/25/2021 12:00:00 AM 1455     11  \n",
       "  AREA.NAME   Rpt.Dist.No Part.1.2 Crm.Cd Crm.Cd.Desc                       \n",
       "1 Devonshire  1791        1        440    THEFT PLAIN - PETTY ($950 & UNDER)\n",
       "2 West Valley 1011        2        354    THEFT OF IDENTITY                 \n",
       "3 West Valley 1015        2        354    THEFT OF IDENTITY                 \n",
       "4 Pacific     1488        2        626    INTIMATE PARTNER - SIMPLE ASSAULT \n",
       "5 Northeast   1123        1        210    ROBBERY                           \n",
       "  ... Vict.Sex Vict.Descent Premis.Cd Premis.Desc                             \n",
       "1 ... M        O            501       SINGLE FAMILY DWELLING                  \n",
       "2 ... F        W            501       SINGLE FAMILY DWELLING                  \n",
       "3 ... F        O            501       SINGLE FAMILY DWELLING                  \n",
       "4 ... F        B            503       HOTEL                                   \n",
       "5 ... X        X            412       ELECTRONICS STORE (IE:RADIO SHACK, ETC.)\n",
       "  Status Status.Desc Crm.Cd.1 LOCATION                                 LAT    \n",
       "1 IC     Invest Cont 440      8300    KELVIN                       AV  34.2200\n",
       "2 IC     Invest Cont 354      18900    CANTLAY                      ST 34.2023\n",
       "3 IC     Invest Cont 354      7300    ENFIELD                      AV  34.2033\n",
       "4 IC     Invest Cont 626      5800 W  CENTURY                      BL  33.9456\n",
       "5 IC     Invest Cont 210      2900    LOS FELIZ                    BL   0.0000\n",
       "  LON      \n",
       "1 -118.5863\n",
       "2 -118.5458\n",
       "3 -118.5241\n",
       "4 -118.3835\n",
       "5    0.0000"
      ]
     },
     "metadata": {},
     "output_type": "display_data"
    }
   ],
   "source": [
    "# Check missing values per column\n",
    "missing_data <- colSums(is.na(crime_data) | crime_data == \"\" | sapply(crime_data, is.nan))\n",
    "totalRows = nrow(crime_data)\n",
    "\n",
    "# Drop columns with more than 50% missing values\n",
    "threshold <- totalRows * 0.5\n",
    "# Identify columns to drop (more than 50% missing data)\n",
    "columns_to_drop <- names(missing_data[missing_data >= threshold])\n",
    "cat(\"Columns with more than 50% missing values and will be dropped:\\n\")\n",
    "print(columns_to_drop)\n",
    "\n",
    "cleaned_data <- crime_data[, missing_data < threshold]\n",
    "\n",
    "head(cleaned_data, 5)"
   ]
  },
  {
   "cell_type": "markdown",
   "metadata": {},
   "source": [
    "##### 3. Convert the DATE OCC column to a datetime format. Extract the year, month, and day into separate columns. Create a new column for the hour using the TIME OCC column."
   ]
  },
  {
   "cell_type": "code",
   "execution_count": 65,
   "metadata": {
    "vscode": {
     "languageId": "r"
    }
   },
   "outputs": [
    {
     "data": {
      "text/html": [
       "<table class=\"dataframe\">\n",
       "<caption>A data.frame: 5 x 26</caption>\n",
       "<thead>\n",
       "\t<tr><th></th><th scope=col>DR_NO</th><th scope=col>Date.Rptd</th><th scope=col>DATE.OCC</th><th scope=col>TIME.OCC</th><th scope=col>AREA</th><th scope=col>AREA.NAME</th><th scope=col>Rpt.Dist.No</th><th scope=col>Part.1.2</th><th scope=col>Crm.Cd</th><th scope=col>Crm.Cd.Desc</th><th scope=col>...</th><th scope=col>Status</th><th scope=col>Status.Desc</th><th scope=col>Crm.Cd.1</th><th scope=col>LOCATION</th><th scope=col>LAT</th><th scope=col>LON</th><th scope=col>Year</th><th scope=col>Month</th><th scope=col>Day</th><th scope=col>Hour</th></tr>\n",
       "\t<tr><th></th><th scope=col>&lt;int&gt;</th><th scope=col>&lt;chr&gt;</th><th scope=col>&lt;dttm&gt;</th><th scope=col>&lt;int&gt;</th><th scope=col>&lt;int&gt;</th><th scope=col>&lt;chr&gt;</th><th scope=col>&lt;int&gt;</th><th scope=col>&lt;int&gt;</th><th scope=col>&lt;int&gt;</th><th scope=col>&lt;chr&gt;</th><th scope=col>...</th><th scope=col>&lt;chr&gt;</th><th scope=col>&lt;chr&gt;</th><th scope=col>&lt;dbl&gt;</th><th scope=col>&lt;chr&gt;</th><th scope=col>&lt;dbl&gt;</th><th scope=col>&lt;dbl&gt;</th><th scope=col>&lt;dbl&gt;</th><th scope=col>&lt;dbl&gt;</th><th scope=col>&lt;int&gt;</th><th scope=col>&lt;chr&gt;</th></tr>\n",
       "</thead>\n",
       "<tbody>\n",
       "\t<tr><th scope=row>1</th><td>241711715</td><td>08/01/2024 12:00:00 AM</td><td>2024-08-01</td><td>1319</td><td>17</td><td>Devonshire </td><td>1791</td><td>1</td><td>440</td><td>THEFT PLAIN - PETTY ($950 &amp; UNDER)</td><td>...</td><td>IC</td><td>Invest Cont</td><td>440</td><td><span style=white-space:pre-wrap>8300    KELVIN                       AV </span></td><td>34.2200</td><td>-118.5863</td><td>2024</td><td> 8</td><td> 1</td><td>13</td></tr>\n",
       "\t<tr><th scope=row>2</th><td>231014031</td><td>09/21/2023 12:00:00 AM</td><td>2023-09-15</td><td>1930</td><td>10</td><td>West Valley</td><td>1011</td><td>2</td><td>354</td><td>THEFT OF IDENTITY                 </td><td>...</td><td>IC</td><td>Invest Cont</td><td>354</td><td>18900    CANTLAY                      ST</td><td>34.2023</td><td>-118.5458</td><td>2023</td><td> 9</td><td>15</td><td>19</td></tr>\n",
       "\t<tr><th scope=row>3</th><td>231010808</td><td>06/27/2023 12:00:00 AM</td><td>2023-06-26</td><td>1230</td><td>10</td><td>West Valley</td><td>1015</td><td>2</td><td>354</td><td>THEFT OF IDENTITY                 </td><td>...</td><td>IC</td><td>Invest Cont</td><td>354</td><td>7300    ENFIELD                      AV </td><td>34.2033</td><td>-118.5241</td><td>2023</td><td> 6</td><td>26</td><td>12</td></tr>\n",
       "\t<tr><th scope=row>4</th><td>211410441</td><td>04/25/2021 12:00:00 AM</td><td>2021-04-25</td><td>2330</td><td>14</td><td>Pacific    </td><td>1488</td><td>2</td><td>626</td><td>INTIMATE PARTNER - SIMPLE ASSAULT </td><td>...</td><td>IC</td><td>Invest Cont</td><td>626</td><td>5800 W  CENTURY                      BL </td><td>33.9456</td><td>-118.3835</td><td>2021</td><td> 4</td><td>25</td><td>23</td></tr>\n",
       "\t<tr><th scope=row>5</th><td>211114569</td><td>10/25/2021 12:00:00 AM</td><td>2021-10-25</td><td>1455</td><td>11</td><td>Northeast  </td><td>1123</td><td>1</td><td>210</td><td>ROBBERY                           </td><td>...</td><td>IC</td><td>Invest Cont</td><td>210</td><td>2900    LOS FELIZ                    BL </td><td> 0.0000</td><td>   0.0000</td><td>2021</td><td>10</td><td>25</td><td>14</td></tr>\n",
       "</tbody>\n",
       "</table>\n"
      ],
      "text/latex": [
       "A data.frame: 5 x 26\n",
       "\\begin{tabular}{r|lllllllllllllllllllll}\n",
       "  & DR\\_NO & Date.Rptd & DATE.OCC & TIME.OCC & AREA & AREA.NAME & Rpt.Dist.No & Part.1.2 & Crm.Cd & Crm.Cd.Desc & ... & Status & Status.Desc & Crm.Cd.1 & LOCATION & LAT & LON & Year & Month & Day & Hour\\\\\n",
       "  & <int> & <chr> & <dttm> & <int> & <int> & <chr> & <int> & <int> & <int> & <chr> & ... & <chr> & <chr> & <dbl> & <chr> & <dbl> & <dbl> & <dbl> & <dbl> & <int> & <chr>\\\\\n",
       "\\hline\n",
       "\t1 & 241711715 & 08/01/2024 12:00:00 AM & 2024-08-01 & 1319 & 17 & Devonshire  & 1791 & 1 & 440 & THEFT PLAIN - PETTY (\\$950 \\& UNDER) & ... & IC & Invest Cont & 440 & 8300    KELVIN                       AV  & 34.2200 & -118.5863 & 2024 &  8 &  1 & 13\\\\\n",
       "\t2 & 231014031 & 09/21/2023 12:00:00 AM & 2023-09-15 & 1930 & 10 & West Valley & 1011 & 2 & 354 & THEFT OF IDENTITY                  & ... & IC & Invest Cont & 354 & 18900    CANTLAY                      ST & 34.2023 & -118.5458 & 2023 &  9 & 15 & 19\\\\\n",
       "\t3 & 231010808 & 06/27/2023 12:00:00 AM & 2023-06-26 & 1230 & 10 & West Valley & 1015 & 2 & 354 & THEFT OF IDENTITY                  & ... & IC & Invest Cont & 354 & 7300    ENFIELD                      AV  & 34.2033 & -118.5241 & 2023 &  6 & 26 & 12\\\\\n",
       "\t4 & 211410441 & 04/25/2021 12:00:00 AM & 2021-04-25 & 2330 & 14 & Pacific     & 1488 & 2 & 626 & INTIMATE PARTNER - SIMPLE ASSAULT  & ... & IC & Invest Cont & 626 & 5800 W  CENTURY                      BL  & 33.9456 & -118.3835 & 2021 &  4 & 25 & 23\\\\\n",
       "\t5 & 211114569 & 10/25/2021 12:00:00 AM & 2021-10-25 & 1455 & 11 & Northeast   & 1123 & 1 & 210 & ROBBERY                            & ... & IC & Invest Cont & 210 & 2900    LOS FELIZ                    BL  &  0.0000 &    0.0000 & 2021 & 10 & 25 & 14\\\\\n",
       "\\end{tabular}\n"
      ],
      "text/markdown": [
       "\n",
       "A data.frame: 5 x 26\n",
       "\n",
       "| <!--/--> | DR_NO &lt;int&gt; | Date.Rptd &lt;chr&gt; | DATE.OCC &lt;dttm&gt; | TIME.OCC &lt;int&gt; | AREA &lt;int&gt; | AREA.NAME &lt;chr&gt; | Rpt.Dist.No &lt;int&gt; | Part.1.2 &lt;int&gt; | Crm.Cd &lt;int&gt; | Crm.Cd.Desc &lt;chr&gt; | ... ... | Status &lt;chr&gt; | Status.Desc &lt;chr&gt; | Crm.Cd.1 &lt;dbl&gt; | LOCATION &lt;chr&gt; | LAT &lt;dbl&gt; | LON &lt;dbl&gt; | Year &lt;dbl&gt; | Month &lt;dbl&gt; | Day &lt;int&gt; | Hour &lt;chr&gt; |\n",
       "|---|---|---|---|---|---|---|---|---|---|---|---|---|---|---|---|---|---|---|---|---|---|\n",
       "| 1 | 241711715 | 08/01/2024 12:00:00 AM | 2024-08-01 | 1319 | 17 | Devonshire  | 1791 | 1 | 440 | THEFT PLAIN - PETTY ($950 &amp; UNDER) | ... | IC | Invest Cont | 440 | 8300    KELVIN                       AV  | 34.2200 | -118.5863 | 2024 |  8 |  1 | 13 |\n",
       "| 2 | 231014031 | 09/21/2023 12:00:00 AM | 2023-09-15 | 1930 | 10 | West Valley | 1011 | 2 | 354 | THEFT OF IDENTITY                  | ... | IC | Invest Cont | 354 | 18900    CANTLAY                      ST | 34.2023 | -118.5458 | 2023 |  9 | 15 | 19 |\n",
       "| 3 | 231010808 | 06/27/2023 12:00:00 AM | 2023-06-26 | 1230 | 10 | West Valley | 1015 | 2 | 354 | THEFT OF IDENTITY                  | ... | IC | Invest Cont | 354 | 7300    ENFIELD                      AV  | 34.2033 | -118.5241 | 2023 |  6 | 26 | 12 |\n",
       "| 4 | 211410441 | 04/25/2021 12:00:00 AM | 2021-04-25 | 2330 | 14 | Pacific     | 1488 | 2 | 626 | INTIMATE PARTNER - SIMPLE ASSAULT  | ... | IC | Invest Cont | 626 | 5800 W  CENTURY                      BL  | 33.9456 | -118.3835 | 2021 |  4 | 25 | 23 |\n",
       "| 5 | 211114569 | 10/25/2021 12:00:00 AM | 2021-10-25 | 1455 | 11 | Northeast   | 1123 | 1 | 210 | ROBBERY                            | ... | IC | Invest Cont | 210 | 2900    LOS FELIZ                    BL  |  0.0000 |    0.0000 | 2021 | 10 | 25 | 14 |\n",
       "\n"
      ],
      "text/plain": [
       "  DR_NO     Date.Rptd              DATE.OCC   TIME.OCC AREA AREA.NAME  \n",
       "1 241711715 08/01/2024 12:00:00 AM 2024-08-01 1319     17   Devonshire \n",
       "2 231014031 09/21/2023 12:00:00 AM 2023-09-15 1930     10   West Valley\n",
       "3 231010808 06/27/2023 12:00:00 AM 2023-06-26 1230     10   West Valley\n",
       "4 211410441 04/25/2021 12:00:00 AM 2021-04-25 2330     14   Pacific    \n",
       "5 211114569 10/25/2021 12:00:00 AM 2021-10-25 1455     11   Northeast  \n",
       "  Rpt.Dist.No Part.1.2 Crm.Cd Crm.Cd.Desc                        ... Status\n",
       "1 1791        1        440    THEFT PLAIN - PETTY ($950 & UNDER) ... IC    \n",
       "2 1011        2        354    THEFT OF IDENTITY                  ... IC    \n",
       "3 1015        2        354    THEFT OF IDENTITY                  ... IC    \n",
       "4 1488        2        626    INTIMATE PARTNER - SIMPLE ASSAULT  ... IC    \n",
       "5 1123        1        210    ROBBERY                            ... IC    \n",
       "  Status.Desc Crm.Cd.1 LOCATION                                 LAT    \n",
       "1 Invest Cont 440      8300    KELVIN                       AV  34.2200\n",
       "2 Invest Cont 354      18900    CANTLAY                      ST 34.2023\n",
       "3 Invest Cont 354      7300    ENFIELD                      AV  34.2033\n",
       "4 Invest Cont 626      5800 W  CENTURY                      BL  33.9456\n",
       "5 Invest Cont 210      2900    LOS FELIZ                    BL   0.0000\n",
       "  LON       Year Month Day Hour\n",
       "1 -118.5863 2024  8     1  13  \n",
       "2 -118.5458 2023  9    15  19  \n",
       "3 -118.5241 2023  6    26  12  \n",
       "4 -118.3835 2021  4    25  23  \n",
       "5    0.0000 2021 10    25  14  "
      ]
     },
     "metadata": {},
     "output_type": "display_data"
    }
   ],
   "source": [
    "cleaned_data_dateformatted <- cleaned_data %>%\n",
    "  # Convert DATE OCC to Date format using lubridate\n",
    "  mutate(DATE.OCC = mdy_hms(DATE.OCC),  # or use ymd(), dmy() based on your date format\n",
    "         # Extract Year, Month, Day using lubridate\n",
    "         Year = year(DATE.OCC),\n",
    "         Month = month(DATE.OCC),\n",
    "         Day = day(DATE.OCC),\n",
    "         # Extract Hour from TIME OCC (assuming HHMM format)\n",
    "         Hour = substr(TIME.OCC, 1, 2))\n",
    "\n",
    "# Show the first few rows of the updated data\n",
    "head(cleaned_data_dateformatted, 5)\n"
   ]
  },
  {
   "cell_type": "markdown",
   "metadata": {},
   "source": [
    "##### 4. Filter the dataset for crimes that occurred in 2023. Further filter crimes with the description BURGLARY in the Crm Cd Desc column."
   ]
  },
  {
   "cell_type": "code",
   "execution_count": 68,
   "metadata": {
    "vscode": {
     "languageId": "r"
    }
   },
   "outputs": [
    {
     "name": "stdout",
     "output_type": "stream",
     "text": [
      "Clean Data: 50000 \n",
      "Only 2023 crimes: 11665 \n",
      "Only 2023 crimes that are burglary: 725 \n"
     ]
    },
    {
     "data": {
      "text/html": [
       "<table class=\"dataframe\">\n",
       "<caption>A data.frame: 6 x 26</caption>\n",
       "<thead>\n",
       "\t<tr><th></th><th scope=col>DR_NO</th><th scope=col>Date.Rptd</th><th scope=col>DATE.OCC</th><th scope=col>TIME.OCC</th><th scope=col>AREA</th><th scope=col>AREA.NAME</th><th scope=col>Rpt.Dist.No</th><th scope=col>Part.1.2</th><th scope=col>Crm.Cd</th><th scope=col>Crm.Cd.Desc</th><th scope=col>...</th><th scope=col>Status</th><th scope=col>Status.Desc</th><th scope=col>Crm.Cd.1</th><th scope=col>LOCATION</th><th scope=col>LAT</th><th scope=col>LON</th><th scope=col>Year</th><th scope=col>Month</th><th scope=col>Day</th><th scope=col>Hour</th></tr>\n",
       "\t<tr><th></th><th scope=col>&lt;int&gt;</th><th scope=col>&lt;chr&gt;</th><th scope=col>&lt;dttm&gt;</th><th scope=col>&lt;int&gt;</th><th scope=col>&lt;int&gt;</th><th scope=col>&lt;chr&gt;</th><th scope=col>&lt;int&gt;</th><th scope=col>&lt;int&gt;</th><th scope=col>&lt;int&gt;</th><th scope=col>&lt;chr&gt;</th><th scope=col>...</th><th scope=col>&lt;chr&gt;</th><th scope=col>&lt;chr&gt;</th><th scope=col>&lt;dbl&gt;</th><th scope=col>&lt;chr&gt;</th><th scope=col>&lt;dbl&gt;</th><th scope=col>&lt;dbl&gt;</th><th scope=col>&lt;dbl&gt;</th><th scope=col>&lt;dbl&gt;</th><th scope=col>&lt;int&gt;</th><th scope=col>&lt;chr&gt;</th></tr>\n",
       "</thead>\n",
       "<tbody>\n",
       "\t<tr><th scope=row>1</th><td>231107877</td><td>04/15/2023 12:00:00 AM</td><td>2023-01-15</td><td> 500</td><td>11</td><td>Northeast  </td><td>1151</td><td>1</td><td>310</td><td>BURGLARY</td><td>...</td><td>IC</td><td>Invest Cont</td><td>310</td><td>5000 W  SUNSET                       BL </td><td>34.0981</td><td>-118.2983</td><td>2023</td><td> 1</td><td>15</td><td>50</td></tr>\n",
       "\t<tr><th scope=row>2</th><td>231912840</td><td>08/15/2023 12:00:00 AM</td><td>2023-08-14</td><td>2200</td><td>19</td><td>Mission    </td><td>1962</td><td>1</td><td>310</td><td>BURGLARY</td><td>...</td><td>IC</td><td>Invest Cont</td><td>310</td><td>15000    CORE                         LN</td><td>34.2424</td><td>-118.4596</td><td>2023</td><td> 8</td><td>14</td><td>22</td></tr>\n",
       "\t<tr><th scope=row>3</th><td>230813484</td><td>08/19/2023 12:00:00 AM</td><td>2023-08-19</td><td> 510</td><td> 8</td><td>West LA    </td><td> 857</td><td>1</td><td>310</td><td>BURGLARY</td><td>...</td><td>IC</td><td>Invest Cont</td><td>310</td><td>9400 W  PICO                         BL </td><td>34.0553</td><td>-118.3943</td><td>2023</td><td> 8</td><td>19</td><td>51</td></tr>\n",
       "\t<tr><th scope=row>4</th><td>230126836</td><td>12/20/2023 12:00:00 AM</td><td>2023-12-10</td><td>1200</td><td> 1</td><td>Central    </td><td> 154</td><td>1</td><td>310</td><td>BURGLARY</td><td>...</td><td>IC</td><td>Invest Cont</td><td>310</td><td>100 E  6TH                          ST  </td><td>34.0460</td><td>-118.2493</td><td>2023</td><td>12</td><td>10</td><td>12</td></tr>\n",
       "\t<tr><th scope=row>5</th><td>231506351</td><td>02/26/2023 12:00:00 AM</td><td>2023-02-22</td><td>1230</td><td>15</td><td>N Hollywood</td><td>1562</td><td>1</td><td>310</td><td>BURGLARY</td><td>...</td><td>IC</td><td>Invest Cont</td><td>310</td><td>4400    BABCOCK                      AV </td><td>34.1504</td><td>-118.4063</td><td>2023</td><td> 2</td><td>22</td><td>12</td></tr>\n",
       "\t<tr><th scope=row>6</th><td>231609277</td><td>06/17/2023 12:00:00 AM</td><td>2023-06-12</td><td>2000</td><td>16</td><td>Foothill   </td><td>1667</td><td>1</td><td>310</td><td>BURGLARY</td><td>...</td><td>IC</td><td>Invest Cont</td><td>310</td><td>9400    LA TUNA CANYON               RD </td><td>34.2429</td><td>-118.3417</td><td>2023</td><td> 6</td><td>12</td><td>20</td></tr>\n",
       "</tbody>\n",
       "</table>\n"
      ],
      "text/latex": [
       "A data.frame: 6 x 26\n",
       "\\begin{tabular}{r|lllllllllllllllllllll}\n",
       "  & DR\\_NO & Date.Rptd & DATE.OCC & TIME.OCC & AREA & AREA.NAME & Rpt.Dist.No & Part.1.2 & Crm.Cd & Crm.Cd.Desc & ... & Status & Status.Desc & Crm.Cd.1 & LOCATION & LAT & LON & Year & Month & Day & Hour\\\\\n",
       "  & <int> & <chr> & <dttm> & <int> & <int> & <chr> & <int> & <int> & <int> & <chr> & ... & <chr> & <chr> & <dbl> & <chr> & <dbl> & <dbl> & <dbl> & <dbl> & <int> & <chr>\\\\\n",
       "\\hline\n",
       "\t1 & 231107877 & 04/15/2023 12:00:00 AM & 2023-01-15 &  500 & 11 & Northeast   & 1151 & 1 & 310 & BURGLARY & ... & IC & Invest Cont & 310 & 5000 W  SUNSET                       BL  & 34.0981 & -118.2983 & 2023 &  1 & 15 & 50\\\\\n",
       "\t2 & 231912840 & 08/15/2023 12:00:00 AM & 2023-08-14 & 2200 & 19 & Mission     & 1962 & 1 & 310 & BURGLARY & ... & IC & Invest Cont & 310 & 15000    CORE                         LN & 34.2424 & -118.4596 & 2023 &  8 & 14 & 22\\\\\n",
       "\t3 & 230813484 & 08/19/2023 12:00:00 AM & 2023-08-19 &  510 &  8 & West LA     &  857 & 1 & 310 & BURGLARY & ... & IC & Invest Cont & 310 & 9400 W  PICO                         BL  & 34.0553 & -118.3943 & 2023 &  8 & 19 & 51\\\\\n",
       "\t4 & 230126836 & 12/20/2023 12:00:00 AM & 2023-12-10 & 1200 &  1 & Central     &  154 & 1 & 310 & BURGLARY & ... & IC & Invest Cont & 310 & 100 E  6TH                          ST   & 34.0460 & -118.2493 & 2023 & 12 & 10 & 12\\\\\n",
       "\t5 & 231506351 & 02/26/2023 12:00:00 AM & 2023-02-22 & 1230 & 15 & N Hollywood & 1562 & 1 & 310 & BURGLARY & ... & IC & Invest Cont & 310 & 4400    BABCOCK                      AV  & 34.1504 & -118.4063 & 2023 &  2 & 22 & 12\\\\\n",
       "\t6 & 231609277 & 06/17/2023 12:00:00 AM & 2023-06-12 & 2000 & 16 & Foothill    & 1667 & 1 & 310 & BURGLARY & ... & IC & Invest Cont & 310 & 9400    LA TUNA CANYON               RD  & 34.2429 & -118.3417 & 2023 &  6 & 12 & 20\\\\\n",
       "\\end{tabular}\n"
      ],
      "text/markdown": [
       "\n",
       "A data.frame: 6 x 26\n",
       "\n",
       "| <!--/--> | DR_NO &lt;int&gt; | Date.Rptd &lt;chr&gt; | DATE.OCC &lt;dttm&gt; | TIME.OCC &lt;int&gt; | AREA &lt;int&gt; | AREA.NAME &lt;chr&gt; | Rpt.Dist.No &lt;int&gt; | Part.1.2 &lt;int&gt; | Crm.Cd &lt;int&gt; | Crm.Cd.Desc &lt;chr&gt; | ... ... | Status &lt;chr&gt; | Status.Desc &lt;chr&gt; | Crm.Cd.1 &lt;dbl&gt; | LOCATION &lt;chr&gt; | LAT &lt;dbl&gt; | LON &lt;dbl&gt; | Year &lt;dbl&gt; | Month &lt;dbl&gt; | Day &lt;int&gt; | Hour &lt;chr&gt; |\n",
       "|---|---|---|---|---|---|---|---|---|---|---|---|---|---|---|---|---|---|---|---|---|---|\n",
       "| 1 | 231107877 | 04/15/2023 12:00:00 AM | 2023-01-15 |  500 | 11 | Northeast   | 1151 | 1 | 310 | BURGLARY | ... | IC | Invest Cont | 310 | 5000 W  SUNSET                       BL  | 34.0981 | -118.2983 | 2023 |  1 | 15 | 50 |\n",
       "| 2 | 231912840 | 08/15/2023 12:00:00 AM | 2023-08-14 | 2200 | 19 | Mission     | 1962 | 1 | 310 | BURGLARY | ... | IC | Invest Cont | 310 | 15000    CORE                         LN | 34.2424 | -118.4596 | 2023 |  8 | 14 | 22 |\n",
       "| 3 | 230813484 | 08/19/2023 12:00:00 AM | 2023-08-19 |  510 |  8 | West LA     |  857 | 1 | 310 | BURGLARY | ... | IC | Invest Cont | 310 | 9400 W  PICO                         BL  | 34.0553 | -118.3943 | 2023 |  8 | 19 | 51 |\n",
       "| 4 | 230126836 | 12/20/2023 12:00:00 AM | 2023-12-10 | 1200 |  1 | Central     |  154 | 1 | 310 | BURGLARY | ... | IC | Invest Cont | 310 | 100 E  6TH                          ST   | 34.0460 | -118.2493 | 2023 | 12 | 10 | 12 |\n",
       "| 5 | 231506351 | 02/26/2023 12:00:00 AM | 2023-02-22 | 1230 | 15 | N Hollywood | 1562 | 1 | 310 | BURGLARY | ... | IC | Invest Cont | 310 | 4400    BABCOCK                      AV  | 34.1504 | -118.4063 | 2023 |  2 | 22 | 12 |\n",
       "| 6 | 231609277 | 06/17/2023 12:00:00 AM | 2023-06-12 | 2000 | 16 | Foothill    | 1667 | 1 | 310 | BURGLARY | ... | IC | Invest Cont | 310 | 9400    LA TUNA CANYON               RD  | 34.2429 | -118.3417 | 2023 |  6 | 12 | 20 |\n",
       "\n"
      ],
      "text/plain": [
       "  DR_NO     Date.Rptd              DATE.OCC   TIME.OCC AREA AREA.NAME  \n",
       "1 231107877 04/15/2023 12:00:00 AM 2023-01-15  500     11   Northeast  \n",
       "2 231912840 08/15/2023 12:00:00 AM 2023-08-14 2200     19   Mission    \n",
       "3 230813484 08/19/2023 12:00:00 AM 2023-08-19  510      8   West LA    \n",
       "4 230126836 12/20/2023 12:00:00 AM 2023-12-10 1200      1   Central    \n",
       "5 231506351 02/26/2023 12:00:00 AM 2023-02-22 1230     15   N Hollywood\n",
       "6 231609277 06/17/2023 12:00:00 AM 2023-06-12 2000     16   Foothill   \n",
       "  Rpt.Dist.No Part.1.2 Crm.Cd Crm.Cd.Desc ... Status Status.Desc Crm.Cd.1\n",
       "1 1151        1        310    BURGLARY    ... IC     Invest Cont 310     \n",
       "2 1962        1        310    BURGLARY    ... IC     Invest Cont 310     \n",
       "3  857        1        310    BURGLARY    ... IC     Invest Cont 310     \n",
       "4  154        1        310    BURGLARY    ... IC     Invest Cont 310     \n",
       "5 1562        1        310    BURGLARY    ... IC     Invest Cont 310     \n",
       "6 1667        1        310    BURGLARY    ... IC     Invest Cont 310     \n",
       "  LOCATION                                 LAT     LON       Year Month Day\n",
       "1 5000 W  SUNSET                       BL  34.0981 -118.2983 2023  1    15 \n",
       "2 15000    CORE                         LN 34.2424 -118.4596 2023  8    14 \n",
       "3 9400 W  PICO                         BL  34.0553 -118.3943 2023  8    19 \n",
       "4 100 E  6TH                          ST   34.0460 -118.2493 2023 12    10 \n",
       "5 4400    BABCOCK                      AV  34.1504 -118.4063 2023  2    22 \n",
       "6 9400    LA TUNA CANYON               RD  34.2429 -118.3417 2023  6    12 \n",
       "  Hour\n",
       "1 50  \n",
       "2 22  \n",
       "3 51  \n",
       "4 12  \n",
       "5 12  \n",
       "6 20  "
      ]
     },
     "metadata": {},
     "output_type": "display_data"
    }
   ],
   "source": [
    "#Filtering by year\n",
    "# Filter for crimes in 2023 and with BURGLARY\n",
    "crime_data_2023 <- cleaned_data_dateformatted %>%\n",
    "  filter(Year == 2023)\n",
    "\n",
    "crime_data_2023_burglary <- crime_data_2023 %>%\n",
    "  filter(Crm.Cd.Desc == \"BURGLARY\")\n",
    "\n",
    "cat('Clean Data:', nrow(cleaned_data_dateformatted), '\\n')\n",
    "cat('Only 2023 crimes:', nrow(crime_data_2023), '\\n')\n",
    "cat('Only 2023 crimes that are burglary:', nrow(crime_data_2023_burglary), '\\n')\n",
    "\n",
    "head(crime_data_2023_burglary)"
   ]
  },
  {
   "cell_type": "markdown",
   "metadata": {},
   "source": [
    "##### 5. Group the data by AREA NAME and calculate the total number of crimes and the average victim age. Sort the results by total crimes in descending order."
   ]
  },
  {
   "cell_type": "code",
   "execution_count": 71,
   "metadata": {
    "vscode": {
     "languageId": "r"
    }
   },
   "outputs": [
    {
     "data": {
      "text/html": [
       "<table class=\"dataframe\">\n",
       "<caption>A tibble: 21 x 3</caption>\n",
       "<thead>\n",
       "\t<tr><th scope=col>AREA.NAME</th><th scope=col>total_crimes</th><th scope=col>avg_victim_age</th></tr>\n",
       "\t<tr><th scope=col>&lt;chr&gt;</th><th scope=col>&lt;int&gt;</th><th scope=col>&lt;dbl&gt;</th></tr>\n",
       "</thead>\n",
       "<tbody>\n",
       "\t<tr><td>Central    </td><td>3517</td><td>28.48138</td></tr>\n",
       "\t<tr><td>77th Street</td><td>3115</td><td>29.15152</td></tr>\n",
       "\t<tr><td>Pacific    </td><td>3004</td><td>28.97803</td></tr>\n",
       "\t<tr><td>Southwest  </td><td>2831</td><td>29.04804</td></tr>\n",
       "\t<tr><td>Hollywood  </td><td>2556</td><td>28.33138</td></tr>\n",
       "\t<tr><td>Newton     </td><td>2537</td><td>25.05479</td></tr>\n",
       "\t<tr><td>Olympic    </td><td>2523</td><td>27.73286</td></tr>\n",
       "\t<tr><td>N Hollywood</td><td>2503</td><td>28.34678</td></tr>\n",
       "\t<tr><td>Southeast  </td><td>2459</td><td>28.36275</td></tr>\n",
       "\t<tr><td>Rampart    </td><td>2388</td><td>26.27345</td></tr>\n",
       "\t<tr><td>Wilshire   </td><td>2379</td><td>29.59563</td></tr>\n",
       "\t<tr><td>West LA    </td><td>2249</td><td>30.30725</td></tr>\n",
       "\t<tr><td>Van Nuys   </td><td>2162</td><td>31.74838</td></tr>\n",
       "\t<tr><td>West Valley</td><td>2114</td><td>30.64049</td></tr>\n",
       "\t<tr><td>Northeast  </td><td>2103</td><td>28.73276</td></tr>\n",
       "\t<tr><td>Topanga    </td><td>2076</td><td>34.01879</td></tr>\n",
       "\t<tr><td>Harbor     </td><td>2052</td><td>26.98392</td></tr>\n",
       "\t<tr><td>Devonshire </td><td>2031</td><td>29.59774</td></tr>\n",
       "\t<tr><td>Mission    </td><td>1933</td><td>29.60942</td></tr>\n",
       "\t<tr><td>Hollenbeck </td><td>1843</td><td>26.15844</td></tr>\n",
       "\t<tr><td>Foothill   </td><td>1625</td><td>30.51138</td></tr>\n",
       "</tbody>\n",
       "</table>\n"
      ],
      "text/latex": [
       "A tibble: 21 x 3\n",
       "\\begin{tabular}{lll}\n",
       " AREA.NAME & total\\_crimes & avg\\_victim\\_age\\\\\n",
       " <chr> & <int> & <dbl>\\\\\n",
       "\\hline\n",
       "\t Central     & 3517 & 28.48138\\\\\n",
       "\t 77th Street & 3115 & 29.15152\\\\\n",
       "\t Pacific     & 3004 & 28.97803\\\\\n",
       "\t Southwest   & 2831 & 29.04804\\\\\n",
       "\t Hollywood   & 2556 & 28.33138\\\\\n",
       "\t Newton      & 2537 & 25.05479\\\\\n",
       "\t Olympic     & 2523 & 27.73286\\\\\n",
       "\t N Hollywood & 2503 & 28.34678\\\\\n",
       "\t Southeast   & 2459 & 28.36275\\\\\n",
       "\t Rampart     & 2388 & 26.27345\\\\\n",
       "\t Wilshire    & 2379 & 29.59563\\\\\n",
       "\t West LA     & 2249 & 30.30725\\\\\n",
       "\t Van Nuys    & 2162 & 31.74838\\\\\n",
       "\t West Valley & 2114 & 30.64049\\\\\n",
       "\t Northeast   & 2103 & 28.73276\\\\\n",
       "\t Topanga     & 2076 & 34.01879\\\\\n",
       "\t Harbor      & 2052 & 26.98392\\\\\n",
       "\t Devonshire  & 2031 & 29.59774\\\\\n",
       "\t Mission     & 1933 & 29.60942\\\\\n",
       "\t Hollenbeck  & 1843 & 26.15844\\\\\n",
       "\t Foothill    & 1625 & 30.51138\\\\\n",
       "\\end{tabular}\n"
      ],
      "text/markdown": [
       "\n",
       "A tibble: 21 x 3\n",
       "\n",
       "| AREA.NAME &lt;chr&gt; | total_crimes &lt;int&gt; | avg_victim_age &lt;dbl&gt; |\n",
       "|---|---|---|\n",
       "| Central     | 3517 | 28.48138 |\n",
       "| 77th Street | 3115 | 29.15152 |\n",
       "| Pacific     | 3004 | 28.97803 |\n",
       "| Southwest   | 2831 | 29.04804 |\n",
       "| Hollywood   | 2556 | 28.33138 |\n",
       "| Newton      | 2537 | 25.05479 |\n",
       "| Olympic     | 2523 | 27.73286 |\n",
       "| N Hollywood | 2503 | 28.34678 |\n",
       "| Southeast   | 2459 | 28.36275 |\n",
       "| Rampart     | 2388 | 26.27345 |\n",
       "| Wilshire    | 2379 | 29.59563 |\n",
       "| West LA     | 2249 | 30.30725 |\n",
       "| Van Nuys    | 2162 | 31.74838 |\n",
       "| West Valley | 2114 | 30.64049 |\n",
       "| Northeast   | 2103 | 28.73276 |\n",
       "| Topanga     | 2076 | 34.01879 |\n",
       "| Harbor      | 2052 | 26.98392 |\n",
       "| Devonshire  | 2031 | 29.59774 |\n",
       "| Mission     | 1933 | 29.60942 |\n",
       "| Hollenbeck  | 1843 | 26.15844 |\n",
       "| Foothill    | 1625 | 30.51138 |\n",
       "\n"
      ],
      "text/plain": [
       "   AREA.NAME   total_crimes avg_victim_age\n",
       "1  Central     3517         28.48138      \n",
       "2  77th Street 3115         29.15152      \n",
       "3  Pacific     3004         28.97803      \n",
       "4  Southwest   2831         29.04804      \n",
       "5  Hollywood   2556         28.33138      \n",
       "6  Newton      2537         25.05479      \n",
       "7  Olympic     2523         27.73286      \n",
       "8  N Hollywood 2503         28.34678      \n",
       "9  Southeast   2459         28.36275      \n",
       "10 Rampart     2388         26.27345      \n",
       "11 Wilshire    2379         29.59563      \n",
       "12 West LA     2249         30.30725      \n",
       "13 Van Nuys    2162         31.74838      \n",
       "14 West Valley 2114         30.64049      \n",
       "15 Northeast   2103         28.73276      \n",
       "16 Topanga     2076         34.01879      \n",
       "17 Harbor      2052         26.98392      \n",
       "18 Devonshire  2031         29.59774      \n",
       "19 Mission     1933         29.60942      \n",
       "20 Hollenbeck  1843         26.15844      \n",
       "21 Foothill    1625         30.51138      "
      ]
     },
     "metadata": {},
     "output_type": "display_data"
    }
   ],
   "source": [
    "# Group by AREA NAME, calculate total crimes and average victim age\n",
    "grouped_data <- cleaned_data %>%\n",
    "  group_by(AREA.NAME) %>%\n",
    "  summarise(\n",
    "    total_crimes = n(),\n",
    "    avg_victim_age = mean(Vict.Age, na.rm = TRUE)\n",
    "  ) %>%\n",
    "  arrange(desc(total_crimes))\n",
    "\n",
    "  head(grouped_data, nrow(grouped_data))"
   ]
  },
  {
   "cell_type": "markdown",
   "metadata": {},
   "source": [
    "### **Part 2: Further Exploration**"
   ]
  },
  {
   "cell_type": "markdown",
   "metadata": {},
   "source": [
    "##### 1. Group the data by Month and count the number of crimes."
   ]
  },
  {
   "cell_type": "code",
   "execution_count": 73,
   "metadata": {
    "vscode": {
     "languageId": "r"
    }
   },
   "outputs": [
    {
     "data": {
      "text/html": [
       "<table class=\"dataframe\">\n",
       "<caption>A tibble: 12 x 2</caption>\n",
       "<thead>\n",
       "\t<tr><th scope=col>Month</th><th scope=col>total_crimes</th></tr>\n",
       "\t<tr><th scope=col>&lt;dbl&gt;</th><th scope=col>&lt;int&gt;</th></tr>\n",
       "</thead>\n",
       "<tbody>\n",
       "\t<tr><td> 1</td><td>4578</td></tr>\n",
       "\t<tr><td> 2</td><td>4290</td></tr>\n",
       "\t<tr><td> 3</td><td>4361</td></tr>\n",
       "\t<tr><td> 4</td><td>4189</td></tr>\n",
       "\t<tr><td> 5</td><td>4088</td></tr>\n",
       "\t<tr><td> 6</td><td>4058</td></tr>\n",
       "\t<tr><td> 7</td><td>4179</td></tr>\n",
       "\t<tr><td> 8</td><td>4147</td></tr>\n",
       "\t<tr><td> 9</td><td>4054</td></tr>\n",
       "\t<tr><td>10</td><td>4226</td></tr>\n",
       "\t<tr><td>11</td><td>3948</td></tr>\n",
       "\t<tr><td>12</td><td>3882</td></tr>\n",
       "</tbody>\n",
       "</table>\n"
      ],
      "text/latex": [
       "A tibble: 12 x 2\n",
       "\\begin{tabular}{ll}\n",
       " Month & total\\_crimes\\\\\n",
       " <dbl> & <int>\\\\\n",
       "\\hline\n",
       "\t  1 & 4578\\\\\n",
       "\t  2 & 4290\\\\\n",
       "\t  3 & 4361\\\\\n",
       "\t  4 & 4189\\\\\n",
       "\t  5 & 4088\\\\\n",
       "\t  6 & 4058\\\\\n",
       "\t  7 & 4179\\\\\n",
       "\t  8 & 4147\\\\\n",
       "\t  9 & 4054\\\\\n",
       "\t 10 & 4226\\\\\n",
       "\t 11 & 3948\\\\\n",
       "\t 12 & 3882\\\\\n",
       "\\end{tabular}\n"
      ],
      "text/markdown": [
       "\n",
       "A tibble: 12 x 2\n",
       "\n",
       "| Month &lt;dbl&gt; | total_crimes &lt;int&gt; |\n",
       "|---|---|\n",
       "|  1 | 4578 |\n",
       "|  2 | 4290 |\n",
       "|  3 | 4361 |\n",
       "|  4 | 4189 |\n",
       "|  5 | 4088 |\n",
       "|  6 | 4058 |\n",
       "|  7 | 4179 |\n",
       "|  8 | 4147 |\n",
       "|  9 | 4054 |\n",
       "| 10 | 4226 |\n",
       "| 11 | 3948 |\n",
       "| 12 | 3882 |\n",
       "\n"
      ],
      "text/plain": [
       "   Month total_crimes\n",
       "1   1    4578        \n",
       "2   2    4290        \n",
       "3   3    4361        \n",
       "4   4    4189        \n",
       "5   5    4088        \n",
       "6   6    4058        \n",
       "7   7    4179        \n",
       "8   8    4147        \n",
       "9   9    4054        \n",
       "10 10    4226        \n",
       "11 11    3948        \n",
       "12 12    3882        "
      ]
     },
     "metadata": {},
     "output_type": "display_data"
    }
   ],
   "source": [
    "crimes_by_month <- cleaned_data_dateformatted %>%\n",
    "  group_by(Month) %>%\n",
    "  summarise(total_crimes = n())\n",
    "\n",
    "head(crimes_by_month, nrow(crimes_by_month))"
   ]
  },
  {
   "cell_type": "markdown",
   "metadata": {},
   "source": [
    "##### 2. Count the number of crimes where a weapon was used (Weapon Used Cd is not null)."
   ]
  },
  {
   "cell_type": "code",
   "execution_count": 75,
   "metadata": {
    "vscode": {
     "languageId": "r"
    }
   },
   "outputs": [
    {
     "data": {
      "text/html": [
       "<table class=\"dataframe\">\n",
       "<caption>A data.frame: 1 x 1</caption>\n",
       "<thead>\n",
       "\t<tr><th></th><th scope=col>total_crimes</th></tr>\n",
       "\t<tr><th></th><th scope=col>&lt;int&gt;</th></tr>\n",
       "</thead>\n",
       "<tbody>\n",
       "\t<tr><th scope=row>1</th><td>16346</td></tr>\n",
       "</tbody>\n",
       "</table>\n"
      ],
      "text/latex": [
       "A data.frame: 1 x 1\n",
       "\\begin{tabular}{r|l}\n",
       "  & total\\_crimes\\\\\n",
       "  & <int>\\\\\n",
       "\\hline\n",
       "\t1 & 16346\\\\\n",
       "\\end{tabular}\n"
      ],
      "text/markdown": [
       "\n",
       "A data.frame: 1 x 1\n",
       "\n",
       "| <!--/--> | total_crimes &lt;int&gt; |\n",
       "|---|---|\n",
       "| 1 | 16346 |\n",
       "\n"
      ],
      "text/plain": [
       "  total_crimes\n",
       "1 16346       "
      ]
     },
     "metadata": {},
     "output_type": "display_data"
    }
   ],
   "source": [
    "crimes_with_weapon <- crime_data %>%\n",
    "  filter(!is.na(Weapon.Used.Cd)) %>%\n",
    "  summarise(total_crimes = n())\n",
    "\n",
    "  head(crimes_with_weapon)"
   ]
  },
  {
   "cell_type": "markdown",
   "metadata": {},
   "source": [
    "##### 3. Group the data by Premis Desc and count the number of crimes."
   ]
  },
  {
   "cell_type": "code",
   "execution_count": 78,
   "metadata": {
    "vscode": {
     "languageId": "r"
    }
   },
   "outputs": [
    {
     "data": {
      "text/html": [
       "<table class=\"dataframe\">\n",
       "<caption>A tibble: 267 x 2</caption>\n",
       "<thead>\n",
       "\t<tr><th scope=col>Premis.Desc</th><th scope=col>total_crimes</th></tr>\n",
       "\t<tr><th scope=col>&lt;chr&gt;</th><th scope=col>&lt;int&gt;</th></tr>\n",
       "</thead>\n",
       "<tbody>\n",
       "\t<tr><td>                                                      </td><td> 29</td></tr>\n",
       "\t<tr><td>7TH AND METRO CENTER (NOT LINE SPECIFIC)              </td><td> 13</td></tr>\n",
       "\t<tr><td>ABANDONED BUILDING ABANDONED HOUSE                    </td><td> 45</td></tr>\n",
       "\t<tr><td>ABORTION CLINIC/ABORTION FACILITY*                    </td><td>  1</td></tr>\n",
       "\t<tr><td>AIRCRAFT                                              </td><td>  1</td></tr>\n",
       "\t<tr><td>ALLEY                                                 </td><td>336</td></tr>\n",
       "\t<tr><td>APARTMENT/CONDO COMMON LAUNDRY ROOM                   </td><td> 17</td></tr>\n",
       "\t<tr><td>ARCADE,GAME ROOM/VIDEO GAMES (EXAMPLE CHUCKIE CHEESE)*</td><td>  5</td></tr>\n",
       "\t<tr><td>AUTO DEALERSHIP (CHEVY, FORD, BMW, MERCEDES, ETC.)    </td><td> 18</td></tr>\n",
       "\t<tr><td>AUTO REPAIR SHOP                                      </td><td> 82</td></tr>\n",
       "\t<tr><td>AUTO SALES LOT                                        </td><td> 19</td></tr>\n",
       "\t<tr><td>AUTO SUPPLY STORE*                                    </td><td> 15</td></tr>\n",
       "\t<tr><td>AUTOMATED TELLER MACHINE (ATM)                        </td><td>124</td></tr>\n",
       "\t<tr><td>BALCONY*                                              </td><td> 18</td></tr>\n",
       "\t<tr><td>BANK                                                  </td><td>191</td></tr>\n",
       "\t<tr><td>BANKING INSIDE MARKET-STORE *                         </td><td>  1</td></tr>\n",
       "\t<tr><td>BAR/COCKTAIL/NIGHTCLUB                                </td><td>111</td></tr>\n",
       "\t<tr><td><span style=white-space:pre-wrap>BAR/SPORTS BAR (OPEN DAY &amp; NIGHT)                     </span></td><td> 33</td></tr>\n",
       "\t<tr><td>BASKETBALL COURTS                                     </td><td>  4</td></tr>\n",
       "\t<tr><td>BEACH                                                 </td><td> 67</td></tr>\n",
       "\t<tr><td>BEAUTY SUPPLY STORE                                   </td><td> 20</td></tr>\n",
       "\t<tr><td>BEAUTY/BARBER SHOP                                    </td><td> 35</td></tr>\n",
       "\t<tr><td>BOOK STORE                                            </td><td>  4</td></tr>\n",
       "\t<tr><td>BOWLING ALLEY*                                        </td><td>  6</td></tr>\n",
       "\t<tr><td>BUS DEPOT/TERMINAL, OTHER THAN MTA                    </td><td>  3</td></tr>\n",
       "\t<tr><td>BUS STOP                                              </td><td>105</td></tr>\n",
       "\t<tr><td>BUS STOP/LAYOVER (ALSO QUERY 124)                     </td><td>  2</td></tr>\n",
       "\t<tr><td>BUS, SCHOOL, CHURCH                                   </td><td>  4</td></tr>\n",
       "\t<tr><td>BUS-CHARTER/PRIVATE                                   </td><td>  5</td></tr>\n",
       "\t<tr><td>CAR WASH                                              </td><td> 32</td></tr>\n",
       "\t<tr><td>...</td><td>...</td></tr>\n",
       "\t<tr><td>TATTOO PARLOR*                                                 </td><td>   4</td></tr>\n",
       "\t<tr><td>TAXI                                                           </td><td>  12</td></tr>\n",
       "\t<tr><td>TELECOMMUNICATION FACILITY/LOCATION                            </td><td>  10</td></tr>\n",
       "\t<tr><td>THE BEVERLY CENTER                                             </td><td>  26</td></tr>\n",
       "\t<tr><td>THE BEVERLY CONNECTION                                         </td><td>  17</td></tr>\n",
       "\t<tr><td>THE GROVE                                                      </td><td>  50</td></tr>\n",
       "\t<tr><td>THEATRE/MOVIE                                                  </td><td>  19</td></tr>\n",
       "\t<tr><td>TOBACCO SHOP                                                   </td><td>  20</td></tr>\n",
       "\t<tr><td>TOOL SHED*                                                     </td><td>   2</td></tr>\n",
       "\t<tr><td>TOW YARD*                                                      </td><td>  13</td></tr>\n",
       "\t<tr><td>TRADE SCHOOL (MEDICAL-TECHNICAL-BUSINESS)*                     </td><td>   8</td></tr>\n",
       "\t<tr><td>TRAIN DEPOT/TERMINAL, OTHER THAN MTA                           </td><td>   1</td></tr>\n",
       "\t<tr><td>TRAIN TRACKS                                                   </td><td>  12</td></tr>\n",
       "\t<tr><td>TRAIN, OTHER THAN MTA (ALSO QUERY 809/810/811)                 </td><td>   4</td></tr>\n",
       "\t<tr><td>TRANSIENT ENCAMPMENT                                           </td><td>  39</td></tr>\n",
       "\t<tr><td>TRANSITIONAL HOUSING/HALFWAY HOUSE                             </td><td>  40</td></tr>\n",
       "\t<tr><td>TRANSPORTATION FACILITY (AIRPORT)                              </td><td> 226</td></tr>\n",
       "\t<tr><td>TRASH CAN/TRASH DUMPSTER                                       </td><td>   3</td></tr>\n",
       "\t<tr><td>TRUCK, COMMERICAL                                              </td><td>   2</td></tr>\n",
       "\t<tr><td>TUNNEL                                                         </td><td>   1</td></tr>\n",
       "\t<tr><td>UNDERPASS/BRIDGE*                                              </td><td>   3</td></tr>\n",
       "\t<tr><td>VACANT LOT                                                     </td><td>  20</td></tr>\n",
       "\t<tr><td>VALET                                                          </td><td>   4</td></tr>\n",
       "\t<tr><td>VEHICLE STORAGE LOT (CARS, TRUCKS, RV'S, BOATS, TRAILERS, ETC.)</td><td>  13</td></tr>\n",
       "\t<tr><td>VEHICLE, PASSENGER/TRUCK                                       </td><td>1520</td></tr>\n",
       "\t<tr><td>VETERINARIAN/ANIMAL HOSPITAL                                   </td><td>   3</td></tr>\n",
       "\t<tr><td>VISION CARE FACILITY*                                          </td><td>  10</td></tr>\n",
       "\t<tr><td>WAREHOUSE                                                      </td><td>  95</td></tr>\n",
       "\t<tr><td>WEBSITE                                                        </td><td>  34</td></tr>\n",
       "\t<tr><td>YARD (RESIDENTIAL/BUSINESS)                                    </td><td> 275</td></tr>\n",
       "</tbody>\n",
       "</table>\n"
      ],
      "text/latex": [
       "A tibble: 267 x 2\n",
       "\\begin{tabular}{ll}\n",
       " Premis.Desc & total\\_crimes\\\\\n",
       " <chr> & <int>\\\\\n",
       "\\hline\n",
       "\t                                                        &  29\\\\\n",
       "\t 7TH AND METRO CENTER (NOT LINE SPECIFIC)               &  13\\\\\n",
       "\t ABANDONED BUILDING ABANDONED HOUSE                     &  45\\\\\n",
       "\t ABORTION CLINIC/ABORTION FACILITY*                     &   1\\\\\n",
       "\t AIRCRAFT                                               &   1\\\\\n",
       "\t ALLEY                                                  & 336\\\\\n",
       "\t APARTMENT/CONDO COMMON LAUNDRY ROOM                    &  17\\\\\n",
       "\t ARCADE,GAME ROOM/VIDEO GAMES (EXAMPLE CHUCKIE CHEESE)* &   5\\\\\n",
       "\t AUTO DEALERSHIP (CHEVY, FORD, BMW, MERCEDES, ETC.)     &  18\\\\\n",
       "\t AUTO REPAIR SHOP                                       &  82\\\\\n",
       "\t AUTO SALES LOT                                         &  19\\\\\n",
       "\t AUTO SUPPLY STORE*                                     &  15\\\\\n",
       "\t AUTOMATED TELLER MACHINE (ATM)                         & 124\\\\\n",
       "\t BALCONY*                                               &  18\\\\\n",
       "\t BANK                                                   & 191\\\\\n",
       "\t BANKING INSIDE MARKET-STORE *                          &   1\\\\\n",
       "\t BAR/COCKTAIL/NIGHTCLUB                                 & 111\\\\\n",
       "\t BAR/SPORTS BAR (OPEN DAY \\& NIGHT)                      &  33\\\\\n",
       "\t BASKETBALL COURTS                                      &   4\\\\\n",
       "\t BEACH                                                  &  67\\\\\n",
       "\t BEAUTY SUPPLY STORE                                    &  20\\\\\n",
       "\t BEAUTY/BARBER SHOP                                     &  35\\\\\n",
       "\t BOOK STORE                                             &   4\\\\\n",
       "\t BOWLING ALLEY*                                         &   6\\\\\n",
       "\t BUS DEPOT/TERMINAL, OTHER THAN MTA                     &   3\\\\\n",
       "\t BUS STOP                                               & 105\\\\\n",
       "\t BUS STOP/LAYOVER (ALSO QUERY 124)                      &   2\\\\\n",
       "\t BUS, SCHOOL, CHURCH                                    &   4\\\\\n",
       "\t BUS-CHARTER/PRIVATE                                    &   5\\\\\n",
       "\t CAR WASH                                               &  32\\\\\n",
       "\t ... & ...\\\\\n",
       "\t TATTOO PARLOR*                                                  &    4\\\\\n",
       "\t TAXI                                                            &   12\\\\\n",
       "\t TELECOMMUNICATION FACILITY/LOCATION                             &   10\\\\\n",
       "\t THE BEVERLY CENTER                                              &   26\\\\\n",
       "\t THE BEVERLY CONNECTION                                          &   17\\\\\n",
       "\t THE GROVE                                                       &   50\\\\\n",
       "\t THEATRE/MOVIE                                                   &   19\\\\\n",
       "\t TOBACCO SHOP                                                    &   20\\\\\n",
       "\t TOOL SHED*                                                      &    2\\\\\n",
       "\t TOW YARD*                                                       &   13\\\\\n",
       "\t TRADE SCHOOL (MEDICAL-TECHNICAL-BUSINESS)*                      &    8\\\\\n",
       "\t TRAIN DEPOT/TERMINAL, OTHER THAN MTA                            &    1\\\\\n",
       "\t TRAIN TRACKS                                                    &   12\\\\\n",
       "\t TRAIN, OTHER THAN MTA (ALSO QUERY 809/810/811)                  &    4\\\\\n",
       "\t TRANSIENT ENCAMPMENT                                            &   39\\\\\n",
       "\t TRANSITIONAL HOUSING/HALFWAY HOUSE                              &   40\\\\\n",
       "\t TRANSPORTATION FACILITY (AIRPORT)                               &  226\\\\\n",
       "\t TRASH CAN/TRASH DUMPSTER                                        &    3\\\\\n",
       "\t TRUCK, COMMERICAL                                               &    2\\\\\n",
       "\t TUNNEL                                                          &    1\\\\\n",
       "\t UNDERPASS/BRIDGE*                                               &    3\\\\\n",
       "\t VACANT LOT                                                      &   20\\\\\n",
       "\t VALET                                                           &    4\\\\\n",
       "\t VEHICLE STORAGE LOT (CARS, TRUCKS, RV'S, BOATS, TRAILERS, ETC.) &   13\\\\\n",
       "\t VEHICLE, PASSENGER/TRUCK                                        & 1520\\\\\n",
       "\t VETERINARIAN/ANIMAL HOSPITAL                                    &    3\\\\\n",
       "\t VISION CARE FACILITY*                                           &   10\\\\\n",
       "\t WAREHOUSE                                                       &   95\\\\\n",
       "\t WEBSITE                                                         &   34\\\\\n",
       "\t YARD (RESIDENTIAL/BUSINESS)                                     &  275\\\\\n",
       "\\end{tabular}\n"
      ],
      "text/markdown": [
       "\n",
       "A tibble: 267 x 2\n",
       "\n",
       "| Premis.Desc &lt;chr&gt; | total_crimes &lt;int&gt; |\n",
       "|---|---|\n",
       "| <!----> |  29 |\n",
       "| 7TH AND METRO CENTER (NOT LINE SPECIFIC)               |  13 |\n",
       "| ABANDONED BUILDING ABANDONED HOUSE                     |  45 |\n",
       "| ABORTION CLINIC/ABORTION FACILITY*                     |   1 |\n",
       "| AIRCRAFT                                               |   1 |\n",
       "| ALLEY                                                  | 336 |\n",
       "| APARTMENT/CONDO COMMON LAUNDRY ROOM                    |  17 |\n",
       "| ARCADE,GAME ROOM/VIDEO GAMES (EXAMPLE CHUCKIE CHEESE)* |   5 |\n",
       "| AUTO DEALERSHIP (CHEVY, FORD, BMW, MERCEDES, ETC.)     |  18 |\n",
       "| AUTO REPAIR SHOP                                       |  82 |\n",
       "| AUTO SALES LOT                                         |  19 |\n",
       "| AUTO SUPPLY STORE*                                     |  15 |\n",
       "| AUTOMATED TELLER MACHINE (ATM)                         | 124 |\n",
       "| BALCONY*                                               |  18 |\n",
       "| BANK                                                   | 191 |\n",
       "| BANKING INSIDE MARKET-STORE *                          |   1 |\n",
       "| BAR/COCKTAIL/NIGHTCLUB                                 | 111 |\n",
       "| BAR/SPORTS BAR (OPEN DAY &amp; NIGHT)                      |  33 |\n",
       "| BASKETBALL COURTS                                      |   4 |\n",
       "| BEACH                                                  |  67 |\n",
       "| BEAUTY SUPPLY STORE                                    |  20 |\n",
       "| BEAUTY/BARBER SHOP                                     |  35 |\n",
       "| BOOK STORE                                             |   4 |\n",
       "| BOWLING ALLEY*                                         |   6 |\n",
       "| BUS DEPOT/TERMINAL, OTHER THAN MTA                     |   3 |\n",
       "| BUS STOP                                               | 105 |\n",
       "| BUS STOP/LAYOVER (ALSO QUERY 124)                      |   2 |\n",
       "| BUS, SCHOOL, CHURCH                                    |   4 |\n",
       "| BUS-CHARTER/PRIVATE                                    |   5 |\n",
       "| CAR WASH                                               |  32 |\n",
       "| ... | ... |\n",
       "| TATTOO PARLOR*                                                  |    4 |\n",
       "| TAXI                                                            |   12 |\n",
       "| TELECOMMUNICATION FACILITY/LOCATION                             |   10 |\n",
       "| THE BEVERLY CENTER                                              |   26 |\n",
       "| THE BEVERLY CONNECTION                                          |   17 |\n",
       "| THE GROVE                                                       |   50 |\n",
       "| THEATRE/MOVIE                                                   |   19 |\n",
       "| TOBACCO SHOP                                                    |   20 |\n",
       "| TOOL SHED*                                                      |    2 |\n",
       "| TOW YARD*                                                       |   13 |\n",
       "| TRADE SCHOOL (MEDICAL-TECHNICAL-BUSINESS)*                      |    8 |\n",
       "| TRAIN DEPOT/TERMINAL, OTHER THAN MTA                            |    1 |\n",
       "| TRAIN TRACKS                                                    |   12 |\n",
       "| TRAIN, OTHER THAN MTA (ALSO QUERY 809/810/811)                  |    4 |\n",
       "| TRANSIENT ENCAMPMENT                                            |   39 |\n",
       "| TRANSITIONAL HOUSING/HALFWAY HOUSE                              |   40 |\n",
       "| TRANSPORTATION FACILITY (AIRPORT)                               |  226 |\n",
       "| TRASH CAN/TRASH DUMPSTER                                        |    3 |\n",
       "| TRUCK, COMMERICAL                                               |    2 |\n",
       "| TUNNEL                                                          |    1 |\n",
       "| UNDERPASS/BRIDGE*                                               |    3 |\n",
       "| VACANT LOT                                                      |   20 |\n",
       "| VALET                                                           |    4 |\n",
       "| VEHICLE STORAGE LOT (CARS, TRUCKS, RV'S, BOATS, TRAILERS, ETC.) |   13 |\n",
       "| VEHICLE, PASSENGER/TRUCK                                        | 1520 |\n",
       "| VETERINARIAN/ANIMAL HOSPITAL                                    |    3 |\n",
       "| VISION CARE FACILITY*                                           |   10 |\n",
       "| WAREHOUSE                                                       |   95 |\n",
       "| WEBSITE                                                         |   34 |\n",
       "| YARD (RESIDENTIAL/BUSINESS)                                     |  275 |\n",
       "\n"
      ],
      "text/plain": [
       "    Premis.Desc                                                    \n",
       "1                                                                  \n",
       "2   7TH AND METRO CENTER (NOT LINE SPECIFIC)                       \n",
       "3   ABANDONED BUILDING ABANDONED HOUSE                             \n",
       "4   ABORTION CLINIC/ABORTION FACILITY*                             \n",
       "5   AIRCRAFT                                                       \n",
       "6   ALLEY                                                          \n",
       "7   APARTMENT/CONDO COMMON LAUNDRY ROOM                            \n",
       "8   ARCADE,GAME ROOM/VIDEO GAMES (EXAMPLE CHUCKIE CHEESE)*         \n",
       "9   AUTO DEALERSHIP (CHEVY, FORD, BMW, MERCEDES, ETC.)             \n",
       "10  AUTO REPAIR SHOP                                               \n",
       "11  AUTO SALES LOT                                                 \n",
       "12  AUTO SUPPLY STORE*                                             \n",
       "13  AUTOMATED TELLER MACHINE (ATM)                                 \n",
       "14  BALCONY*                                                       \n",
       "15  BANK                                                           \n",
       "16  BANKING INSIDE MARKET-STORE *                                  \n",
       "17  BAR/COCKTAIL/NIGHTCLUB                                         \n",
       "18  BAR/SPORTS BAR (OPEN DAY & NIGHT)                              \n",
       "19  BASKETBALL COURTS                                              \n",
       "20  BEACH                                                          \n",
       "21  BEAUTY SUPPLY STORE                                            \n",
       "22  BEAUTY/BARBER SHOP                                             \n",
       "23  BOOK STORE                                                     \n",
       "24  BOWLING ALLEY*                                                 \n",
       "25  BUS DEPOT/TERMINAL, OTHER THAN MTA                             \n",
       "26  BUS STOP                                                       \n",
       "27  BUS STOP/LAYOVER (ALSO QUERY 124)                              \n",
       "28  BUS, SCHOOL, CHURCH                                            \n",
       "29  BUS-CHARTER/PRIVATE                                            \n",
       "30  CAR WASH                                                       \n",
       "... ...                                                            \n",
       "238 TATTOO PARLOR*                                                 \n",
       "239 TAXI                                                           \n",
       "240 TELECOMMUNICATION FACILITY/LOCATION                            \n",
       "241 THE BEVERLY CENTER                                             \n",
       "242 THE BEVERLY CONNECTION                                         \n",
       "243 THE GROVE                                                      \n",
       "244 THEATRE/MOVIE                                                  \n",
       "245 TOBACCO SHOP                                                   \n",
       "246 TOOL SHED*                                                     \n",
       "247 TOW YARD*                                                      \n",
       "248 TRADE SCHOOL (MEDICAL-TECHNICAL-BUSINESS)*                     \n",
       "249 TRAIN DEPOT/TERMINAL, OTHER THAN MTA                           \n",
       "250 TRAIN TRACKS                                                   \n",
       "251 TRAIN, OTHER THAN MTA (ALSO QUERY 809/810/811)                 \n",
       "252 TRANSIENT ENCAMPMENT                                           \n",
       "253 TRANSITIONAL HOUSING/HALFWAY HOUSE                             \n",
       "254 TRANSPORTATION FACILITY (AIRPORT)                              \n",
       "255 TRASH CAN/TRASH DUMPSTER                                       \n",
       "256 TRUCK, COMMERICAL                                              \n",
       "257 TUNNEL                                                         \n",
       "258 UNDERPASS/BRIDGE*                                              \n",
       "259 VACANT LOT                                                     \n",
       "260 VALET                                                          \n",
       "261 VEHICLE STORAGE LOT (CARS, TRUCKS, RV'S, BOATS, TRAILERS, ETC.)\n",
       "262 VEHICLE, PASSENGER/TRUCK                                       \n",
       "263 VETERINARIAN/ANIMAL HOSPITAL                                   \n",
       "264 VISION CARE FACILITY*                                          \n",
       "265 WAREHOUSE                                                      \n",
       "266 WEBSITE                                                        \n",
       "267 YARD (RESIDENTIAL/BUSINESS)                                    \n",
       "    total_crimes\n",
       "1    29         \n",
       "2    13         \n",
       "3    45         \n",
       "4     1         \n",
       "5     1         \n",
       "6   336         \n",
       "7    17         \n",
       "8     5         \n",
       "9    18         \n",
       "10   82         \n",
       "11   19         \n",
       "12   15         \n",
       "13  124         \n",
       "14   18         \n",
       "15  191         \n",
       "16    1         \n",
       "17  111         \n",
       "18   33         \n",
       "19    4         \n",
       "20   67         \n",
       "21   20         \n",
       "22   35         \n",
       "23    4         \n",
       "24    6         \n",
       "25    3         \n",
       "26  105         \n",
       "27    2         \n",
       "28    4         \n",
       "29    5         \n",
       "30   32         \n",
       "... ...         \n",
       "238    4        \n",
       "239   12        \n",
       "240   10        \n",
       "241   26        \n",
       "242   17        \n",
       "243   50        \n",
       "244   19        \n",
       "245   20        \n",
       "246    2        \n",
       "247   13        \n",
       "248    8        \n",
       "249    1        \n",
       "250   12        \n",
       "251    4        \n",
       "252   39        \n",
       "253   40        \n",
       "254  226        \n",
       "255    3        \n",
       "256    2        \n",
       "257    1        \n",
       "258    3        \n",
       "259   20        \n",
       "260    4        \n",
       "261   13        \n",
       "262 1520        \n",
       "263    3        \n",
       "264   10        \n",
       "265   95        \n",
       "266   34        \n",
       "267  275        "
      ]
     },
     "metadata": {},
     "output_type": "display_data"
    }
   ],
   "source": [
    "crimes_by_premis_desc <- crime_data %>%\n",
    "  group_by(Premis.Desc) %>%\n",
    "  summarise(total_crimes = n())\n",
    "\n",
    "    head(crimes_by_premis_desc, nrow(crimes_by_premis_desc))"
   ]
  },
  {
   "cell_type": "markdown",
   "metadata": {},
   "source": [
    "### **Part 3: Advanced Analysis**"
   ]
  },
  {
   "cell_type": "markdown",
   "metadata": {},
   "source": [
    "##### Create a new column, Severity Score, based on the following rules:\n",
    "- Assign 5 points if a weapon was used (Weapon Used Cd is not null).\n",
    "- Assign 3 points for crimes under BURGLARY.\n",
    "- Assign 1 point for all other crimes.\n",
    "- Group by AREA NAME and find the total severity score for each area."
   ]
  },
  {
   "cell_type": "code",
   "execution_count": 79,
   "metadata": {
    "vscode": {
     "languageId": "r"
    }
   },
   "outputs": [
    {
     "data": {
      "text/html": [
       "<table class=\"dataframe\">\n",
       "<caption>A tibble: 21 x 2</caption>\n",
       "<thead>\n",
       "\t<tr><th scope=col>AREA.NAME</th><th scope=col>total_severity_score</th></tr>\n",
       "\t<tr><th scope=col>&lt;chr&gt;</th><th scope=col>&lt;dbl&gt;</th></tr>\n",
       "</thead>\n",
       "<tbody>\n",
       "\t<tr><td>77th Street</td><td>9247</td></tr>\n",
       "\t<tr><td>Central    </td><td>8541</td></tr>\n",
       "\t<tr><td>Devonshire </td><td>4429</td></tr>\n",
       "\t<tr><td>Foothill   </td><td>3823</td></tr>\n",
       "\t<tr><td>Harbor     </td><td>4940</td></tr>\n",
       "\t<tr><td>Hollenbeck </td><td>4439</td></tr>\n",
       "\t<tr><td>Hollywood  </td><td>6590</td></tr>\n",
       "\t<tr><td>Mission    </td><td>4493</td></tr>\n",
       "\t<tr><td>N Hollywood</td><td>5431</td></tr>\n",
       "\t<tr><td>Newton     </td><td>6773</td></tr>\n",
       "\t<tr><td>Northeast  </td><td>4461</td></tr>\n",
       "\t<tr><td>Olympic    </td><td>6257</td></tr>\n",
       "\t<tr><td>Pacific    </td><td>6490</td></tr>\n",
       "\t<tr><td>Rampart    </td><td>6216</td></tr>\n",
       "\t<tr><td>Southeast  </td><td>7129</td></tr>\n",
       "\t<tr><td>Southwest  </td><td>7005</td></tr>\n",
       "\t<tr><td>Topanga    </td><td>4484</td></tr>\n",
       "\t<tr><td>Van Nuys   </td><td>4724</td></tr>\n",
       "\t<tr><td>West LA    </td><td>4625</td></tr>\n",
       "\t<tr><td>West Valley</td><td>4952</td></tr>\n",
       "\t<tr><td>Wilshire   </td><td>5203</td></tr>\n",
       "</tbody>\n",
       "</table>\n"
      ],
      "text/latex": [
       "A tibble: 21 x 2\n",
       "\\begin{tabular}{ll}\n",
       " AREA.NAME & total\\_severity\\_score\\\\\n",
       " <chr> & <dbl>\\\\\n",
       "\\hline\n",
       "\t 77th Street & 9247\\\\\n",
       "\t Central     & 8541\\\\\n",
       "\t Devonshire  & 4429\\\\\n",
       "\t Foothill    & 3823\\\\\n",
       "\t Harbor      & 4940\\\\\n",
       "\t Hollenbeck  & 4439\\\\\n",
       "\t Hollywood   & 6590\\\\\n",
       "\t Mission     & 4493\\\\\n",
       "\t N Hollywood & 5431\\\\\n",
       "\t Newton      & 6773\\\\\n",
       "\t Northeast   & 4461\\\\\n",
       "\t Olympic     & 6257\\\\\n",
       "\t Pacific     & 6490\\\\\n",
       "\t Rampart     & 6216\\\\\n",
       "\t Southeast   & 7129\\\\\n",
       "\t Southwest   & 7005\\\\\n",
       "\t Topanga     & 4484\\\\\n",
       "\t Van Nuys    & 4724\\\\\n",
       "\t West LA     & 4625\\\\\n",
       "\t West Valley & 4952\\\\\n",
       "\t Wilshire    & 5203\\\\\n",
       "\\end{tabular}\n"
      ],
      "text/markdown": [
       "\n",
       "A tibble: 21 x 2\n",
       "\n",
       "| AREA.NAME &lt;chr&gt; | total_severity_score &lt;dbl&gt; |\n",
       "|---|---|\n",
       "| 77th Street | 9247 |\n",
       "| Central     | 8541 |\n",
       "| Devonshire  | 4429 |\n",
       "| Foothill    | 3823 |\n",
       "| Harbor      | 4940 |\n",
       "| Hollenbeck  | 4439 |\n",
       "| Hollywood   | 6590 |\n",
       "| Mission     | 4493 |\n",
       "| N Hollywood | 5431 |\n",
       "| Newton      | 6773 |\n",
       "| Northeast   | 4461 |\n",
       "| Olympic     | 6257 |\n",
       "| Pacific     | 6490 |\n",
       "| Rampart     | 6216 |\n",
       "| Southeast   | 7129 |\n",
       "| Southwest   | 7005 |\n",
       "| Topanga     | 4484 |\n",
       "| Van Nuys    | 4724 |\n",
       "| West LA     | 4625 |\n",
       "| West Valley | 4952 |\n",
       "| Wilshire    | 5203 |\n",
       "\n"
      ],
      "text/plain": [
       "   AREA.NAME   total_severity_score\n",
       "1  77th Street 9247                \n",
       "2  Central     8541                \n",
       "3  Devonshire  4429                \n",
       "4  Foothill    3823                \n",
       "5  Harbor      4940                \n",
       "6  Hollenbeck  4439                \n",
       "7  Hollywood   6590                \n",
       "8  Mission     4493                \n",
       "9  N Hollywood 5431                \n",
       "10 Newton      6773                \n",
       "11 Northeast   4461                \n",
       "12 Olympic     6257                \n",
       "13 Pacific     6490                \n",
       "14 Rampart     6216                \n",
       "15 Southeast   7129                \n",
       "16 Southwest   7005                \n",
       "17 Topanga     4484                \n",
       "18 Van Nuys    4724                \n",
       "19 West LA     4625                \n",
       "20 West Valley 4952                \n",
       "21 Wilshire    5203                "
      ]
     },
     "metadata": {},
     "output_type": "display_data"
    }
   ],
   "source": [
    "# Create Severity Score based on rules\n",
    "crime_data$Severity.Score <- ifelse(!is.na(crime_data$Weapon.Used.Cd), 5,\n",
    "                                   ifelse(crime_data$Crm.Cd.Desc == \"BURGLARY\", 3, 1))\n",
    "\n",
    "# Group by AREA NAME and find total severity score\n",
    "severity_by_area <- crime_data %>%\n",
    "  group_by(AREA.NAME) %>%\n",
    "  summarise(total_severity_score = sum(Severity.Score))\n",
    "\n",
    "head(severity_by_area, nrow(severity_by_area))"
   ]
  },
  {
   "cell_type": "markdown",
   "metadata": {},
   "source": [
    "### Bonus"
   ]
  },
  {
   "cell_type": "markdown",
   "metadata": {},
   "source": [
    "##### Use the LAT and LON columns to identify crimes that occurred within a specific latitude-longitude bounding box (e.g., downtown area)."
   ]
  },
  {
   "cell_type": "markdown",
   "metadata": {},
   "source": [
    "- North Boundary: North of 3rd Street\n",
    "- South Boundary: South of 7th Street\n",
    "- East Boundary: East of Alameda Street\n",
    "- West Boundary: West of the 110 Freeway"
   ]
  },
  {
   "cell_type": "code",
   "execution_count": 81,
   "metadata": {
    "vscode": {
     "languageId": "r"
    }
   },
   "outputs": [
    {
     "name": "stdout",
     "output_type": "stream",
     "text": [
      "Total crimes in downtown area: 806"
     ]
    },
    {
     "data": {
      "text/html": [
       "<table class=\"dataframe\">\n",
       "<caption>A data.frame: 5 x 29</caption>\n",
       "<thead>\n",
       "\t<tr><th></th><th scope=col>DR_NO</th><th scope=col>Date.Rptd</th><th scope=col>DATE.OCC</th><th scope=col>TIME.OCC</th><th scope=col>AREA</th><th scope=col>AREA.NAME</th><th scope=col>Rpt.Dist.No</th><th scope=col>Part.1.2</th><th scope=col>Crm.Cd</th><th scope=col>Crm.Cd.Desc</th><th scope=col>...</th><th scope=col>Status.Desc</th><th scope=col>Crm.Cd.1</th><th scope=col>Crm.Cd.2</th><th scope=col>Crm.Cd.3</th><th scope=col>Crm.Cd.4</th><th scope=col>LOCATION</th><th scope=col>Cross.Street</th><th scope=col>LAT</th><th scope=col>LON</th><th scope=col>Severity.Score</th></tr>\n",
       "\t<tr><th></th><th scope=col>&lt;int&gt;</th><th scope=col>&lt;chr&gt;</th><th scope=col>&lt;chr&gt;</th><th scope=col>&lt;int&gt;</th><th scope=col>&lt;int&gt;</th><th scope=col>&lt;chr&gt;</th><th scope=col>&lt;int&gt;</th><th scope=col>&lt;int&gt;</th><th scope=col>&lt;int&gt;</th><th scope=col>&lt;chr&gt;</th><th scope=col>...</th><th scope=col>&lt;chr&gt;</th><th scope=col>&lt;dbl&gt;</th><th scope=col>&lt;dbl&gt;</th><th scope=col>&lt;dbl&gt;</th><th scope=col>&lt;dbl&gt;</th><th scope=col>&lt;chr&gt;</th><th scope=col>&lt;chr&gt;</th><th scope=col>&lt;dbl&gt;</th><th scope=col>&lt;dbl&gt;</th><th scope=col>&lt;dbl&gt;</th></tr>\n",
       "</thead>\n",
       "<tbody>\n",
       "\t<tr><th scope=row>1</th><td>200120593</td><td>11/04/2020 12:00:00 AM</td><td>11/02/2020 12:00:00 AM</td><td>2030</td><td>1</td><td>Central</td><td>176</td><td>2</td><td>740</td><td>VANDALISM - FELONY ($400 &amp; OVER, ALL CHURCH VANDALISMS)</td><td>...</td><td>Invest Cont</td><td>740</td><td>NA</td><td>NA</td><td>NA</td><td><span style=white-space:pre-wrap>8TH                          ST       </span></td><td>MAPLE</td><td>34.0408</td><td>-118.2512</td><td>1</td></tr>\n",
       "\t<tr><th scope=row>2</th><td>220123818</td><td>11/03/2022 12:00:00 AM</td><td>07/31/2022 12:00:00 AM</td><td>1200</td><td>1</td><td>Central</td><td>174</td><td>2</td><td>354</td><td>THEFT OF IDENTITY                                      </td><td>...</td><td>Invest Cont</td><td>354</td><td>NA</td><td>NA</td><td>NA</td><td>700 S  MAIN                         ST</td><td>     </td><td>34.0439</td><td>-118.2514</td><td>1</td></tr>\n",
       "\t<tr><th scope=row>3</th><td>210111504</td><td>06/07/2021 12:00:00 AM</td><td>06/07/2021 12:00:00 AM</td><td>2030</td><td>1</td><td>Central</td><td>176</td><td>1</td><td>210</td><td>ROBBERY                                                </td><td>...</td><td>Invest Cont</td><td>210</td><td>NA</td><td>NA</td><td>NA</td><td>700 S  LOS ANGELES                  ST</td><td>     </td><td>34.0426</td><td>-118.2513</td><td>5</td></tr>\n",
       "\t<tr><th scope=row>4</th><td>210120826</td><td>11/20/2021 12:00:00 AM</td><td>11/20/2021 12:00:00 AM</td><td> 135</td><td>1</td><td>Central</td><td>164</td><td>2</td><td>745</td><td>VANDALISM - MISDEAMEANOR ($399 OR UNDER)               </td><td>...</td><td>Invest Cont</td><td>745</td><td>NA</td><td>NA</td><td>NA</td><td>600 S  MAIN                         ST</td><td>     </td><td>34.0448</td><td>-118.2504</td><td>1</td></tr>\n",
       "\t<tr><th scope=row>5</th><td>230110708</td><td>04/15/2023 12:00:00 AM</td><td>04/14/2023 12:00:00 AM</td><td>1700</td><td>1</td><td>Central</td><td>152</td><td>2</td><td>740</td><td>VANDALISM - FELONY ($400 &amp; OVER, ALL CHURCH VANDALISMS)</td><td>...</td><td>Invest Cont</td><td>740</td><td>NA</td><td>NA</td><td>NA</td><td><span style=white-space:pre-wrap>600 S  HILL                         ST</span></td><td><span style=white-space:pre-wrap>     </span></td><td>34.0491</td><td>-118.2558</td><td>1</td></tr>\n",
       "</tbody>\n",
       "</table>\n"
      ],
      "text/latex": [
       "A data.frame: 5 x 29\n",
       "\\begin{tabular}{r|lllllllllllllllllllll}\n",
       "  & DR\\_NO & Date.Rptd & DATE.OCC & TIME.OCC & AREA & AREA.NAME & Rpt.Dist.No & Part.1.2 & Crm.Cd & Crm.Cd.Desc & ... & Status.Desc & Crm.Cd.1 & Crm.Cd.2 & Crm.Cd.3 & Crm.Cd.4 & LOCATION & Cross.Street & LAT & LON & Severity.Score\\\\\n",
       "  & <int> & <chr> & <chr> & <int> & <int> & <chr> & <int> & <int> & <int> & <chr> & ... & <chr> & <dbl> & <dbl> & <dbl> & <dbl> & <chr> & <chr> & <dbl> & <dbl> & <dbl>\\\\\n",
       "\\hline\n",
       "\t1 & 200120593 & 11/04/2020 12:00:00 AM & 11/02/2020 12:00:00 AM & 2030 & 1 & Central & 176 & 2 & 740 & VANDALISM - FELONY (\\$400 \\& OVER, ALL CHURCH VANDALISMS) & ... & Invest Cont & 740 & NA & NA & NA & 8TH                          ST        & MAPLE & 34.0408 & -118.2512 & 1\\\\\n",
       "\t2 & 220123818 & 11/03/2022 12:00:00 AM & 07/31/2022 12:00:00 AM & 1200 & 1 & Central & 174 & 2 & 354 & THEFT OF IDENTITY                                       & ... & Invest Cont & 354 & NA & NA & NA & 700 S  MAIN                         ST &       & 34.0439 & -118.2514 & 1\\\\\n",
       "\t3 & 210111504 & 06/07/2021 12:00:00 AM & 06/07/2021 12:00:00 AM & 2030 & 1 & Central & 176 & 1 & 210 & ROBBERY                                                 & ... & Invest Cont & 210 & NA & NA & NA & 700 S  LOS ANGELES                  ST &       & 34.0426 & -118.2513 & 5\\\\\n",
       "\t4 & 210120826 & 11/20/2021 12:00:00 AM & 11/20/2021 12:00:00 AM &  135 & 1 & Central & 164 & 2 & 745 & VANDALISM - MISDEAMEANOR (\\$399 OR UNDER)                & ... & Invest Cont & 745 & NA & NA & NA & 600 S  MAIN                         ST &       & 34.0448 & -118.2504 & 1\\\\\n",
       "\t5 & 230110708 & 04/15/2023 12:00:00 AM & 04/14/2023 12:00:00 AM & 1700 & 1 & Central & 152 & 2 & 740 & VANDALISM - FELONY (\\$400 \\& OVER, ALL CHURCH VANDALISMS) & ... & Invest Cont & 740 & NA & NA & NA & 600 S  HILL                         ST &       & 34.0491 & -118.2558 & 1\\\\\n",
       "\\end{tabular}\n"
      ],
      "text/markdown": [
       "\n",
       "A data.frame: 5 x 29\n",
       "\n",
       "| <!--/--> | DR_NO &lt;int&gt; | Date.Rptd &lt;chr&gt; | DATE.OCC &lt;chr&gt; | TIME.OCC &lt;int&gt; | AREA &lt;int&gt; | AREA.NAME &lt;chr&gt; | Rpt.Dist.No &lt;int&gt; | Part.1.2 &lt;int&gt; | Crm.Cd &lt;int&gt; | Crm.Cd.Desc &lt;chr&gt; | ... ... | Status.Desc &lt;chr&gt; | Crm.Cd.1 &lt;dbl&gt; | Crm.Cd.2 &lt;dbl&gt; | Crm.Cd.3 &lt;dbl&gt; | Crm.Cd.4 &lt;dbl&gt; | LOCATION &lt;chr&gt; | Cross.Street &lt;chr&gt; | LAT &lt;dbl&gt; | LON &lt;dbl&gt; | Severity.Score &lt;dbl&gt; |\n",
       "|---|---|---|---|---|---|---|---|---|---|---|---|---|---|---|---|---|---|---|---|---|---|\n",
       "| 1 | 200120593 | 11/04/2020 12:00:00 AM | 11/02/2020 12:00:00 AM | 2030 | 1 | Central | 176 | 2 | 740 | VANDALISM - FELONY ($400 &amp; OVER, ALL CHURCH VANDALISMS) | ... | Invest Cont | 740 | NA | NA | NA | 8TH                          ST        | MAPLE | 34.0408 | -118.2512 | 1 |\n",
       "| 2 | 220123818 | 11/03/2022 12:00:00 AM | 07/31/2022 12:00:00 AM | 1200 | 1 | Central | 174 | 2 | 354 | THEFT OF IDENTITY                                       | ... | Invest Cont | 354 | NA | NA | NA | 700 S  MAIN                         ST | <!----> | 34.0439 | -118.2514 | 1 |\n",
       "| 3 | 210111504 | 06/07/2021 12:00:00 AM | 06/07/2021 12:00:00 AM | 2030 | 1 | Central | 176 | 1 | 210 | ROBBERY                                                 | ... | Invest Cont | 210 | NA | NA | NA | 700 S  LOS ANGELES                  ST | <!----> | 34.0426 | -118.2513 | 5 |\n",
       "| 4 | 210120826 | 11/20/2021 12:00:00 AM | 11/20/2021 12:00:00 AM |  135 | 1 | Central | 164 | 2 | 745 | VANDALISM - MISDEAMEANOR ($399 OR UNDER)                | ... | Invest Cont | 745 | NA | NA | NA | 600 S  MAIN                         ST | <!----> | 34.0448 | -118.2504 | 1 |\n",
       "| 5 | 230110708 | 04/15/2023 12:00:00 AM | 04/14/2023 12:00:00 AM | 1700 | 1 | Central | 152 | 2 | 740 | VANDALISM - FELONY ($400 &amp; OVER, ALL CHURCH VANDALISMS) | ... | Invest Cont | 740 | NA | NA | NA | 600 S  HILL                         ST | <!----> | 34.0491 | -118.2558 | 1 |\n",
       "\n"
      ],
      "text/plain": [
       "  DR_NO     Date.Rptd              DATE.OCC               TIME.OCC AREA\n",
       "1 200120593 11/04/2020 12:00:00 AM 11/02/2020 12:00:00 AM 2030     1   \n",
       "2 220123818 11/03/2022 12:00:00 AM 07/31/2022 12:00:00 AM 1200     1   \n",
       "3 210111504 06/07/2021 12:00:00 AM 06/07/2021 12:00:00 AM 2030     1   \n",
       "4 210120826 11/20/2021 12:00:00 AM 11/20/2021 12:00:00 AM  135     1   \n",
       "5 230110708 04/15/2023 12:00:00 AM 04/14/2023 12:00:00 AM 1700     1   \n",
       "  AREA.NAME Rpt.Dist.No Part.1.2 Crm.Cd\n",
       "1 Central   176         2        740   \n",
       "2 Central   174         2        354   \n",
       "3 Central   176         1        210   \n",
       "4 Central   164         2        745   \n",
       "5 Central   152         2        740   \n",
       "  Crm.Cd.Desc                                             ... Status.Desc\n",
       "1 VANDALISM - FELONY ($400 & OVER, ALL CHURCH VANDALISMS) ... Invest Cont\n",
       "2 THEFT OF IDENTITY                                       ... Invest Cont\n",
       "3 ROBBERY                                                 ... Invest Cont\n",
       "4 VANDALISM - MISDEAMEANOR ($399 OR UNDER)                ... Invest Cont\n",
       "5 VANDALISM - FELONY ($400 & OVER, ALL CHURCH VANDALISMS) ... Invest Cont\n",
       "  Crm.Cd.1 Crm.Cd.2 Crm.Cd.3 Crm.Cd.4 LOCATION                              \n",
       "1 740      NA       NA       NA       8TH                          ST       \n",
       "2 354      NA       NA       NA       700 S  MAIN                         ST\n",
       "3 210      NA       NA       NA       700 S  LOS ANGELES                  ST\n",
       "4 745      NA       NA       NA       600 S  MAIN                         ST\n",
       "5 740      NA       NA       NA       600 S  HILL                         ST\n",
       "  Cross.Street LAT     LON       Severity.Score\n",
       "1 MAPLE        34.0408 -118.2512 1             \n",
       "2              34.0439 -118.2514 1             \n",
       "3              34.0426 -118.2513 5             \n",
       "4              34.0448 -118.2504 1             \n",
       "5              34.0491 -118.2558 1             "
      ]
     },
     "metadata": {},
     "output_type": "display_data"
    }
   ],
   "source": [
    "# Define bounding box (latitude and longitude)\n",
    "lat_min <- 34.04\n",
    "lat_max <- 34.05\n",
    "lon_min <- -118.26\n",
    "lon_max <- -118.25\n",
    "\n",
    "# Filter crimes within bounding box\n",
    "filtered_by_location <- crime_data %>%\n",
    "  filter(LAT >= lat_min, LAT <= lat_max, LON >= lon_min, LON <= lon_max)\n",
    "cat('Total crimes in downtown area:', nrow(filtered_by_location))\n",
    "head(filtered_by_location, 5)"
   ]
  }
 ],
 "metadata": {
  "kernelspec": {
   "display_name": "R",
   "language": "R",
   "name": "ir"
  },
  "language_info": {
   "codemirror_mode": "r",
   "file_extension": ".r",
   "mimetype": "text/x-r-source",
   "name": "R",
   "pygments_lexer": "r",
   "version": "4.4.2"
  }
 },
 "nbformat": 4,
 "nbformat_minor": 2
}
